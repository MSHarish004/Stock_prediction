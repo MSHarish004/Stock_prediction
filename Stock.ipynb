Mount the downloaded dataset from drive
from google.colab import drive drive.mount('\content\drive')

TIMEOUT	Traceback (most recent call last)
<ipython-input-5-2934c69c990e> in <cell line: 2>()
1 from google.colab import drive
----> 2 drive.mount('\content\drive')

  5 frames
/usr/local/lib/python3.10/dist-packages/pexpect/expect.py in timeout(self, err)
142	exc = TIMEOUT(msg)	
143	exc. cause	= None	# in Python 3.x we can use "raise exc from None"
--> 144	 
raise exc	
145		
146	def errored(self):	

TIMEOUT: <pexpect.popen_spawn.PopenSpawn object at 0x7f9d48f73910> searcher: searcher_re:
0: re.compile('google.colab.drive MOUNTED')
1: re.compile('root@f7a322e05b64-5bd62793078d4dce9d632bed492ee80b: ')
2: re.compile('Drive File Stream encountered a problem and has stopped') 3: re.compile('drive EXITED')
4: re.compile('The domain policy has disabled Drive File Stream')
<pexpect.popen_spawn.PopenSpawn object at 0x7f9d48f73910> searcher: searcher_re:
0: re.compile('google.colab.drive MOUNTED')
1: re.compile('root@f7a322e05b64-5bd62793078d4dce9d632bed492ee80b: ')
2: re.compile('Drive File Stream encountered a problem and has stopped') 3: re.compile('drive EXITED')
4: re.compile('The domain policy has disabled Drive File Stream')

Step 1: Import the libraries

from sklearn.svm import SVC
from sklearn.metrics import accuracy_score

# For data manipulation import pandas as pd
import numpy as np

# To plot
import matplotlib.pyplot as plt
plt.style.use('seaborn-darkgrid')

# To ignore warnings import warnings
warnings.filterwarnings("ignore")

<ipython-input-3-c428651f12c9>:10: MatplotlibDeprecationWarning: The seaborn styles shipped by Matplotlib are deprecated since 3.6, plt.style.use('seaborn-darkgrid')

Step 2: Read Stock data

We will Read the Stock Data Downloaded From Yahoo Finance Website. The Data Is stored in OHLC(Open, High, Low, Close) format in a CSV file. To read a CSV file, you can use the read_csv() method of pandas.bold text

Read the csv file using read_csv method of pandas

df=pd.read_csv('/content/contentdrive/MyDrive/Reliance.csv') df
 

   


Step 3: Data Preparation

The data needed to be processed before use such that the date column should act as an index to do that bold text

df.isna().sum()
Open	1
High	1
Low	1
Close	1
Adj Close	1
Volume	1
Open-Close	1
High-Low	1
Return	1
Cum_Ret	1
dtype: int64


df.dropna

<bound method DataFrame.dropna of	Open	High	Low	Close	Adj Close \ Date
2015-11-18	463.799988	465.649994	454.975006	456.000000	436.671021
2015-11-19	459.450012	469.350006	458.625000	467.375000	447.563873
2015-11-20	467.000000	476.399994	462.774994	473.424988	453.357422
2015-11-23	475.000000	478.950012	473.100006	476.875000	456.661224
2015-11-24	476.500000	485.799988	475.524994	483.850006	463.340515
...	...	...	...	...	...
2020-11-10	2077.000000	2090.000000	2041.199951	2084.550049	2084.550049
2020-11-11	2089.000000	2095.000000	1978.099976	1997.199951	1997.199951
2020-11-12	1981.000000	2008.449951	1965.000000	1980.000000	1980.000000
2020-11-13	1982.000000	2036.650024	1981.750000	1996.400024	1996.400024
2020-11-17	2085.000000	2085.000000	1985.000000	1993.250000	1993.250000
	
Volume	
Open-Close	
High-Low	
Return	
Cum_Ret
Date
2015-11-18	
5142766.0	
7.799988	
10.674988	
NaN	
NaN
2015-11-19	5569752.0	-7.924988	10.725006	0.024945	0.024945
2015-11-20	5167930.0	-6.424988	13.625000	0.012945	0.037890
2015-11-23	4800026.0	-1.875000	5.850006	0.007287	0.045177
2015-11-24	6768886.0	-7.350006	10.274994	0.014626	0.059804
...	...	...	...	...	...
2020-11-10	17045147.0	-7.550049	48.800049	0.016507	1.750897
2020-11-11	26178477.0	91.800049	116.900024	-0.041904	1.708994
2020-11-12	18481466.0	1.000000	43.449951	-0.008612	1.700382
2020-11-13	20946864.0	-14.400024	54.900024	0.008283	1.708665
2020-11-17	21479385.0	91.750000	100.000000	-0.001578	1.707087

[1233 rows x 10 columns]>


df.isna().sum()
Open	1
High	1
Low	1
Close	1
Adj Close	1
Volume	1
 
Open-Close	0
High-Low	1
Return	1
Cum_Ret	1
dtype: int64


mean_v=df['Open-Close'].mean() mean_v

0.8709124464285727


df.fillna(mean_v,inplace=True) df.isnull().sum()

Open	0
High	0
Low	0
Close	0
Adj Close	0
Volume	0
Open-Close	0
High-Low	0
Return	0
Cum_Ret	0
dtype: int64

df.index = pd.to_datetime(df['Date']) df


Date	Date	Open	High	Low	Close	Adj Close	Volume
2015-11-18	2015-11-18	463.799988	465.649994	454.975006	456.000000	436.671021	5142766.0
2015-11-19	2015-11-19	459.450012	469.350006	458.625000	467.375000	447.563873	5569752.0
2015-11-20	2015-11-20	467.000000	476.399994	462.774994	473.424988	453.357422	5167930.0
2015-11-23	2015-11-23	475.000000	478.950012	473.100006	476.875000	456.661224	4800026.0
2015-11-24	2015-11-24	476.500000	485.799988	475.524994	483.850006	463.340515	6768886.0
...	...	...	...	...	...	...	...
2020-11-10	2020-11-10	2077.000000	2090.000000	2041.199951	2084.550049	2084.550049	17045147.0
2020-11-11	2020-11-11	2089.000000	2095.000000	1978.099976	1997.199951	1997.199951	26178477.0
2020-11-12	2020-11-12	1981.000000	2008.449951	1965.000000	1980.000000	1980.000000	18481466.0
2020-11-13	2020-11-13	1982.000000	2036.650024	1981.750000	1996.400024	1996.400024	20946864.0
2020-11-17	2020-11-17	2085.000000	2085.000000	1985.000000	1993.250000	1993.250000	21479385.0

1233 rows × 7 columns

df = df.drop(['Date'], axis='columns') df


Date	Open	High	Low	Close	Adj Close	Volume
2015-11-18	463.799988	465.649994	454.975006	456.000000	436.671021	5142766.0
2015-11-19	459.450012	469.350006	458.625000	467.375000	447.563873	5569752.0
2015-11-20	467.000000	476.399994	462.774994	473.424988	453.357422	5167930.0
2015-11-23	475.000000	478.950012	473.100006	476.875000	456.661224	4800026.0
2015-11-24	476.500000	485.799988	475.524994	483.850006	463.340515	6768886.0
...	...	...	...	...	...	...
2020-11-10	2077.000000	2090.000000	2041.199951	2084.550049	2084.550049	17045147.0
2020-11-11	2089.000000	2095.000000	1978.099976	1997.199951	1997.199951	26178477.0
2020-11-12	1981.000000	2008.449951	1965.000000	1980.000000	1980.000000	18481466.0
2020-11-13	1982.000000	2036.650024	1981.750000	1996.400024	1996.400024	20946864.0
2020-11-17	2085.000000	2085.000000	1985.000000	1993.250000	1993.250000	21479385.0

1233 rows × 6 columns
 

Step 4: Define the explanatory variables

Explanatory or independent variables are used to predict the value response variable. The X is a dataset that holds the variables which are used for prediction. The X consists of variables such as ‘Open – Close’ and ‘High – Low’. These can be understood as indicators based on which the algorithm will predict tomorrow’s trend. Feel free to add more indicators and see the performance

df['Open-Close'] = df.Open - df.Close df['High-Low'] = df.High - df.Low
X = df[['Open-Close', 'High-Low']] X.head()


Date	Open-Close	High-Low
2015-11-18	7.799988	10.674988
2015-11-19	-7.924988	10.725006
2015-11-20	-6.424988	13.625000
2015-11-23	-1.875000	5.850006
2015-11-24	-7.350006	10.274994


Solving nan and Null values to perform SVM

X.isnull().sum()
Open-Close	1
High-Low	1
dtype: int64


mean_v=df['Open-Close'].mean() mean_v

0.8709124464285728


X['Open-Close'].fillna(mean_v,inplace=True)


mean_v=df['High-Low'].mean() mean_v

25.443766319907898


X['High-Low'].fillna(mean_v,inplace=True)


X.isna().sum()

Open-Close	0
High-Low	0
dtype: int64


Step 5: Define the target variable

The target variable is the outcome which the machine learning model will predict based on the explanatory variables. y is a target dataset
storing the correct trading signal which the machine learning algorithm will try to predict. If tomorrow’s price is greater than today’s price then we will buy the particular Stock else we will have no position in the. We will store +1 for a buy signal and 0 for a no position in y. We will use where() function from NumPy to do this bold text

y = np.where(df['Close'].shift(-1) > df['Close'], 1, 0) y

array([1, 1, 1, ..., 1, 0, 0])


Step 6: Split the data into train and test

We will split data into training and test data sets. This is done so that we can evaluate the effectiveness of the model in the test dataset
 
split_percentage = 0.8
split = int(split_percentage*len(df))

# Train data set
X_train = X[:split] y_train = y[:split]

# Test data set
X_test = X[split:] y_test = y[split:]


Step 7: Support Vector Classifier (SVC)

We will use SVC() function from sklearn.svm.SVC library to create our classifier model using the fit() method on the training data set.

cls = SVC().fit(X_train, y_train)


Step 8: Classifier accuracy

We will compute the accuracy of the algorithm on the train and test the data set by comparing the actual values of the signal with the predicted values of the signal. The function accuracy_score() will be used to calculate the accuracy.

df['Predicted_Signal'] = cls.predict(X) prediction=cls.predict(X_test)


prediction

array([0, 1, 1, 1, 1, 0, 0, 1, 0, 0, 0, 1, 1, 1, 1, 1, 0, 0, 1, 1, 1, 1,
0, 0, 1, 1, 0, 1, 1, 1, 0, 1, 0, 1, 1, 1, 0, 1, 1, 1, 0, 1, 1, 1,
1, 1, 0, 1, 0, 0, 1, 1, 1, 1, 0, 1, 1, 1, 1, 1, 0, 1, 1, 0, 0, 0,
0, 0, 0, 1, 1, 1, 0, 1, 1, 1, 1, 1, 1, 0, 1, 1, 0, 1, 1, 1, 1, 1,
1, 1, 1, 1, 1, 1, 1, 0, 1, 1, 1, 1, 1, 1, 0, 1, 1, 1, 0, 1, 1, 1,
0, 1, 1, 0, 0, 1, 1, 1, 1, 0, 1, 1, 0, 0, 1, 1, 1, 1, 1, 0, 1, 0,
0, 1, 1, 0, 0, 1, 1, 1, 1, 1, 1, 0, 1, 0, 1, 0, 0, 1, 1, 1, 1, 1,
0, 1, 1, 1, 1, 1, 1, 0, 0, 1, 1, 0, 0, 1, 1, 0, 1, 1, 0, 1, 1, 1,
1, 0, 1, 1, 0, 1, 0, 1, 0, 0, 0, 0, 0, 0, 0, 0, 1, 1, 1, 0, 0, 1,
1, 0, 1, 1, 1, 1, 1, 0, 0, 1, 0, 1, 1, 1, 0, 1, 0, 0, 0, 0, 1, 0,
0, 0, 1, 1, 0, 0, 1, 0, 1, 0, 1, 0, 1, 0, 1, 1, 1, 1, 0, 0, 1, 0,
1, 1, 0, 1, 0])


from sklearn.metrics import classification_report print(classification_report(y_test,prediction))

	precision	recall	f1-score	support
0	0.43	0.32	0.37	122
1	0.47	0.59	0.52	125
accuracy			0.46	247
macro avg	0.45	0.46	0.45	247
weighted avg	0.45	0.46	0.45	247



df['Return'] = df.Close.pct_change()


df.isnull().sum()

Open	0
High	0
Low	0
Close	0
Adj Close	0
Volume	0
Open-Close	0
High-Low	0
Return	1
Cum_Ret	1
Predicted_Signal	0
Strategy_Return	1
Cum_Strategy	1
dtype: int64	


ret=df['Return'].mean()
df['Return'].fillna(ret,inplace=True) stra=df['Strategy_Return'].mean()
 
df['Strategy_Return'].fillna(stra,inplace=True) df.isnull().sum()

Open	0
High	0
Low	0
Close	0
Adj Close	0
Volume	0
Open-Close	0
High-Low	0
Return	0
Cum_Ret	0
Predicted_Signal	0
Strategy_Return	0
Cum_Strategy	0
Stragedy_Return	0
dtype: int64


df['Strategy_Return'] = df.Return *df.Predicted_Signal.shift(1) df['Strategy_Return'].fillna(stra,inplace=True)

df['Cum_Ret'] = df['Return'].cumsum() df

 
Open	High	Low	Close	Adj Close	Volume	Open-
Close
 

High-Low
 

Date
2015-	463.799988	465.649994	454.975006	456.000000	436.671021	5142766.0	7.799988	10.674988
11-18
2015-	459.450012	469.350006	458.625000	467.375000	447.563873	5569752.0	-7.924988	10.725006
11-19
2015-	467.000000	476.399994	462.774994	473.424988	453.357422	5167930.0	-6.424988	13.625000
11-20

2015-	475.000000	478.950012	473.100006	476.875000	456.661224	4800026.0	-1.875000	5.850006
11-23

2015-	476.500000	485.799988	475.524994	483.850006	463.340515	6768886.0	-7.350006	10.274994
11-24

...	...	...	...	...	...	...	...	...

2020-   2077.000000   2090.000000   2041.199951   2084.550049   2084.550049   17045147.0	-7.550049	48.800049
11-10
2020-   2089.000000   2095.000000   1978.099976   1997.199951   1997.199951   26178477.0    91.800049 116.900024
11-11

2020-   1981.000000   2008.449951   1965.000000   1980.000000   1980.000000   18481466.0	1.000000	43.449951
11-12

2020-   1982.000000   2036.650024   1981.750000   1996.400024   1996.400024   20946864.0   -14.400024	54.900024
11-13

2020-   2085.000000   2085.000000   1985.000000   1993.250000   1993.250000   21479385.0    91.750000 100.000000
11-17

1233 rows × 14 columns





df['Cum_Strategy'] = df['Strategy_Return'].cumsum() df
 

 
Open	High	Low	Close	Adj Close	Volume	Open-
Close
 

High-Low Return	Cum_Ret Predict
 

Date
2015-	463.799988	465.649994	454.975006	456.000000	436.671021	5142766.0	7.799988	10.674988   1.36703	1.367030
11-18
2015-	459.450012	469.350006	458.625000	467.375000	447.563873	5569752.0	-7.924988	10.725006   1.36703	2.734059
11-19
2015-	467.000000	476.399994	462.774994	473.424988	453.357422	5167930.0	-6.424988	13.625000   1.36703	4.101089
11-20

2015-	475.000000	478.950012	473.100006	476.875000	456.661224	4800026.0	-1.875000	5.850006   1.36703	5.468118
11-23

2015-	476.500000	485.799988	475.524994	483.850006	463.340515	6768886.0	-7.350006	10.274994   1.36703	6.835148
11-24

...	...	...	...	...	...	...	...	...	...	...

.

.

2020-
.
2020-   1982.000000   2036.650024   1981.750000   1996.400024   1996.400024   20946864.0   -14.400024	54.900024   1.36703   1684.180388
.
11-17   2085.000000   2085.000000   1985.000000   1993.250000   1993.250000   21479385.0    91.750000   100.000000   1.36703   1685.547417
.

Plot Strategy Returns vs Original Returns

import matplotlib.pyplot as plt
%matplotlib inline

plt.plot(df['Cum_Ret'],color='red')
plt.plot(df['Cum_Strategy'],color='blue')

[<matplotlib.lines.Line2D at 0x7f913703c2e0>]

Accuracy prediction around 50%

accuracy= accuracy_score(y_test,prediction) accuracy

0.4574898785425101


Link of Dataset :


https://www.kaggle.com/datasets/dhruvanurag20/reliance-data
