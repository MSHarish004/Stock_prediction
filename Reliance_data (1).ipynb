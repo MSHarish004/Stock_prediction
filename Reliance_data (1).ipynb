{
  "cells": [
    {
      "cell_type": "markdown",
      "source": [
        "# **Step by Step Implementation**"
      ],
      "metadata": {
        "id": "pEza9hZjkWlO"
      }
    },
    {
      "cell_type": "markdown",
      "source": [
        "Mount the downloaded dataset from drive"
      ],
      "metadata": {
        "id": "RJgdaG15khqf"
      }
    },
    {
      "cell_type": "code",
      "execution_count": null,
      "metadata": {
        "id": "k9tDuf_52PCJ",
        "colab": {
          "base_uri": "https://localhost:8080/",
          "height": 727
        },
        "outputId": "1ca2f560-3544-4909-f654-0a233daa9baa"
      },
      "outputs": [
        {
          "output_type": "error",
          "ename": "TIMEOUT",
          "evalue": "ignored",
          "traceback": [
            "\u001b[0;31m---------------------------------------------------------------------------\u001b[0m",
            "\u001b[0;31mTIMEOUT\u001b[0m                                   Traceback (most recent call last)",
            "\u001b[0;32m<ipython-input-5-2934c69c990e>\u001b[0m in \u001b[0;36m<cell line: 2>\u001b[0;34m()\u001b[0m\n\u001b[1;32m      1\u001b[0m \u001b[0;32mfrom\u001b[0m \u001b[0mgoogle\u001b[0m\u001b[0;34m.\u001b[0m\u001b[0mcolab\u001b[0m \u001b[0;32mimport\u001b[0m \u001b[0mdrive\u001b[0m\u001b[0;34m\u001b[0m\u001b[0;34m\u001b[0m\u001b[0m\n\u001b[0;32m----> 2\u001b[0;31m \u001b[0mdrive\u001b[0m\u001b[0;34m.\u001b[0m\u001b[0mmount\u001b[0m\u001b[0;34m(\u001b[0m\u001b[0;34m'\\content\\drive'\u001b[0m\u001b[0;34m)\u001b[0m\u001b[0;34m\u001b[0m\u001b[0;34m\u001b[0m\u001b[0m\n\u001b[0m",
            "\u001b[0;32m/usr/local/lib/python3.10/dist-packages/google/colab/drive.py\u001b[0m in \u001b[0;36mmount\u001b[0;34m(mountpoint, force_remount, timeout_ms, readonly)\u001b[0m\n\u001b[1;32m    101\u001b[0m \u001b[0;32mdef\u001b[0m \u001b[0mmount\u001b[0m\u001b[0;34m(\u001b[0m\u001b[0mmountpoint\u001b[0m\u001b[0;34m,\u001b[0m \u001b[0mforce_remount\u001b[0m\u001b[0;34m=\u001b[0m\u001b[0;32mFalse\u001b[0m\u001b[0;34m,\u001b[0m \u001b[0mtimeout_ms\u001b[0m\u001b[0;34m=\u001b[0m\u001b[0;36m120000\u001b[0m\u001b[0;34m,\u001b[0m \u001b[0mreadonly\u001b[0m\u001b[0;34m=\u001b[0m\u001b[0;32mFalse\u001b[0m\u001b[0;34m)\u001b[0m\u001b[0;34m:\u001b[0m\u001b[0;34m\u001b[0m\u001b[0;34m\u001b[0m\u001b[0m\n\u001b[1;32m    102\u001b[0m   \u001b[0;34m\"\"\"Mount your Google Drive at the specified mountpoint path.\"\"\"\u001b[0m\u001b[0;34m\u001b[0m\u001b[0;34m\u001b[0m\u001b[0m\n\u001b[0;32m--> 103\u001b[0;31m   return _mount(\n\u001b[0m\u001b[1;32m    104\u001b[0m       \u001b[0mmountpoint\u001b[0m\u001b[0;34m,\u001b[0m\u001b[0;34m\u001b[0m\u001b[0;34m\u001b[0m\u001b[0m\n\u001b[1;32m    105\u001b[0m       \u001b[0mforce_remount\u001b[0m\u001b[0;34m=\u001b[0m\u001b[0mforce_remount\u001b[0m\u001b[0;34m,\u001b[0m\u001b[0;34m\u001b[0m\u001b[0;34m\u001b[0m\u001b[0m\n",
            "\u001b[0;32m/usr/local/lib/python3.10/dist-packages/google/colab/drive.py\u001b[0m in \u001b[0;36m_mount\u001b[0;34m(mountpoint, force_remount, timeout_ms, ephemeral, readonly)\u001b[0m\n\u001b[1;32m    257\u001b[0m \u001b[0;34m\u001b[0m\u001b[0m\n\u001b[1;32m    258\u001b[0m   \u001b[0;32mwhile\u001b[0m \u001b[0;32mTrue\u001b[0m\u001b[0;34m:\u001b[0m\u001b[0;34m\u001b[0m\u001b[0;34m\u001b[0m\u001b[0m\n\u001b[0;32m--> 259\u001b[0;31m     case = d.expect([\n\u001b[0m\u001b[1;32m    260\u001b[0m         \u001b[0msuccess\u001b[0m\u001b[0;34m,\u001b[0m\u001b[0;34m\u001b[0m\u001b[0;34m\u001b[0m\u001b[0m\n\u001b[1;32m    261\u001b[0m         \u001b[0mprompt\u001b[0m\u001b[0;34m,\u001b[0m\u001b[0;34m\u001b[0m\u001b[0;34m\u001b[0m\u001b[0m\n",
            "\u001b[0;32m/usr/local/lib/python3.10/dist-packages/pexpect/spawnbase.py\u001b[0m in \u001b[0;36mexpect\u001b[0;34m(self, pattern, timeout, searchwindowsize, async_, **kw)\u001b[0m\n\u001b[1;32m    341\u001b[0m \u001b[0;34m\u001b[0m\u001b[0m\n\u001b[1;32m    342\u001b[0m         \u001b[0mcompiled_pattern_list\u001b[0m \u001b[0;34m=\u001b[0m \u001b[0mself\u001b[0m\u001b[0;34m.\u001b[0m\u001b[0mcompile_pattern_list\u001b[0m\u001b[0;34m(\u001b[0m\u001b[0mpattern\u001b[0m\u001b[0;34m)\u001b[0m\u001b[0;34m\u001b[0m\u001b[0;34m\u001b[0m\u001b[0m\n\u001b[0;32m--> 343\u001b[0;31m         return self.expect_list(compiled_pattern_list,\n\u001b[0m\u001b[1;32m    344\u001b[0m                 timeout, searchwindowsize, async_)\n\u001b[1;32m    345\u001b[0m \u001b[0;34m\u001b[0m\u001b[0m\n",
            "\u001b[0;32m/usr/local/lib/python3.10/dist-packages/pexpect/spawnbase.py\u001b[0m in \u001b[0;36mexpect_list\u001b[0;34m(self, pattern_list, timeout, searchwindowsize, async_, **kw)\u001b[0m\n\u001b[1;32m    370\u001b[0m             \u001b[0;32mreturn\u001b[0m \u001b[0mexpect_async\u001b[0m\u001b[0;34m(\u001b[0m\u001b[0mexp\u001b[0m\u001b[0;34m,\u001b[0m \u001b[0mtimeout\u001b[0m\u001b[0;34m)\u001b[0m\u001b[0;34m\u001b[0m\u001b[0;34m\u001b[0m\u001b[0m\n\u001b[1;32m    371\u001b[0m         \u001b[0;32melse\u001b[0m\u001b[0;34m:\u001b[0m\u001b[0;34m\u001b[0m\u001b[0;34m\u001b[0m\u001b[0m\n\u001b[0;32m--> 372\u001b[0;31m             \u001b[0;32mreturn\u001b[0m \u001b[0mexp\u001b[0m\u001b[0;34m.\u001b[0m\u001b[0mexpect_loop\u001b[0m\u001b[0;34m(\u001b[0m\u001b[0mtimeout\u001b[0m\u001b[0;34m)\u001b[0m\u001b[0;34m\u001b[0m\u001b[0;34m\u001b[0m\u001b[0m\n\u001b[0m\u001b[1;32m    373\u001b[0m \u001b[0;34m\u001b[0m\u001b[0m\n\u001b[1;32m    374\u001b[0m     def expect_exact(self, pattern_list, timeout=-1, searchwindowsize=-1,\n",
            "\u001b[0;32m/usr/local/lib/python3.10/dist-packages/pexpect/expect.py\u001b[0m in \u001b[0;36mexpect_loop\u001b[0;34m(self, timeout)\u001b[0m\n\u001b[1;32m    179\u001b[0m             \u001b[0;32mreturn\u001b[0m \u001b[0mself\u001b[0m\u001b[0;34m.\u001b[0m\u001b[0meof\u001b[0m\u001b[0;34m(\u001b[0m\u001b[0me\u001b[0m\u001b[0;34m)\u001b[0m\u001b[0;34m\u001b[0m\u001b[0;34m\u001b[0m\u001b[0m\n\u001b[1;32m    180\u001b[0m         \u001b[0;32mexcept\u001b[0m \u001b[0mTIMEOUT\u001b[0m \u001b[0;32mas\u001b[0m \u001b[0me\u001b[0m\u001b[0;34m:\u001b[0m\u001b[0;34m\u001b[0m\u001b[0;34m\u001b[0m\u001b[0m\n\u001b[0;32m--> 181\u001b[0;31m             \u001b[0;32mreturn\u001b[0m \u001b[0mself\u001b[0m\u001b[0;34m.\u001b[0m\u001b[0mtimeout\u001b[0m\u001b[0;34m(\u001b[0m\u001b[0me\u001b[0m\u001b[0;34m)\u001b[0m\u001b[0;34m\u001b[0m\u001b[0;34m\u001b[0m\u001b[0m\n\u001b[0m\u001b[1;32m    182\u001b[0m         \u001b[0;32mexcept\u001b[0m\u001b[0;34m:\u001b[0m\u001b[0;34m\u001b[0m\u001b[0;34m\u001b[0m\u001b[0m\n\u001b[1;32m    183\u001b[0m             \u001b[0mself\u001b[0m\u001b[0;34m.\u001b[0m\u001b[0merrored\u001b[0m\u001b[0;34m(\u001b[0m\u001b[0;34m)\u001b[0m\u001b[0;34m\u001b[0m\u001b[0;34m\u001b[0m\u001b[0m\n",
            "\u001b[0;32m/usr/local/lib/python3.10/dist-packages/pexpect/expect.py\u001b[0m in \u001b[0;36mtimeout\u001b[0;34m(self, err)\u001b[0m\n\u001b[1;32m    142\u001b[0m             \u001b[0mexc\u001b[0m \u001b[0;34m=\u001b[0m \u001b[0mTIMEOUT\u001b[0m\u001b[0;34m(\u001b[0m\u001b[0mmsg\u001b[0m\u001b[0;34m)\u001b[0m\u001b[0;34m\u001b[0m\u001b[0;34m\u001b[0m\u001b[0m\n\u001b[1;32m    143\u001b[0m             \u001b[0mexc\u001b[0m\u001b[0;34m.\u001b[0m\u001b[0m__cause__\u001b[0m \u001b[0;34m=\u001b[0m \u001b[0;32mNone\u001b[0m    \u001b[0;31m# in Python 3.x we can use \"raise exc from None\"\u001b[0m\u001b[0;34m\u001b[0m\u001b[0;34m\u001b[0m\u001b[0m\n\u001b[0;32m--> 144\u001b[0;31m             \u001b[0;32mraise\u001b[0m \u001b[0mexc\u001b[0m\u001b[0;34m\u001b[0m\u001b[0;34m\u001b[0m\u001b[0m\n\u001b[0m\u001b[1;32m    145\u001b[0m \u001b[0;34m\u001b[0m\u001b[0m\n\u001b[1;32m    146\u001b[0m     \u001b[0;32mdef\u001b[0m \u001b[0merrored\u001b[0m\u001b[0;34m(\u001b[0m\u001b[0mself\u001b[0m\u001b[0;34m)\u001b[0m\u001b[0;34m:\u001b[0m\u001b[0;34m\u001b[0m\u001b[0;34m\u001b[0m\u001b[0m\n",
            "\u001b[0;31mTIMEOUT\u001b[0m: <pexpect.popen_spawn.PopenSpawn object at 0x7f9d48f73910>\nsearcher: searcher_re:\n    0: re.compile('google.colab.drive MOUNTED')\n    1: re.compile('root@f7a322e05b64-5bd62793078d4dce9d632bed492ee80b: ')\n    2: re.compile('Drive File Stream encountered a problem and has stopped')\n    3: re.compile('drive EXITED')\n    4: re.compile('The domain policy has disabled Drive File Stream')\n<pexpect.popen_spawn.PopenSpawn object at 0x7f9d48f73910>\nsearcher: searcher_re:\n    0: re.compile('google.colab.drive MOUNTED')\n    1: re.compile('root@f7a322e05b64-5bd62793078d4dce9d632bed492ee80b: ')\n    2: re.compile('Drive File Stream encountered a problem and has stopped')\n    3: re.compile('drive EXITED')\n    4: re.compile('The domain policy has disabled Drive File Stream')"
          ]
        }
      ],
      "source": [
        "from google.colab import drive\n",
        "drive.mount('\\content\\drive')"
      ]
    },
    {
      "cell_type": "markdown",
      "source": [
        " **Step 1: Import the libraries**"
      ],
      "metadata": {
        "id": "gW00Z0c5kgso"
      }
    },
    {
      "cell_type": "code",
      "source": [
        "from sklearn.svm import SVC\n",
        "from sklearn.metrics import accuracy_score\n",
        "\n",
        "# For data manipulation\n",
        "import pandas as pd\n",
        "import numpy as np\n",
        "\n",
        "# To plot\n",
        "import matplotlib.pyplot as plt\n",
        "plt.style.use('seaborn-darkgrid')\n",
        "\n",
        "# To ignore warnings\n",
        "import warnings\n",
        "warnings.filterwarnings(\"ignore\")"
      ],
      "metadata": {
        "id": "z2G4XrNZGXnA",
        "colab": {
          "base_uri": "https://localhost:8080/"
        },
        "outputId": "97a174e7-0b74-4677-8cee-29dd2d7e345e"
      },
      "execution_count": null,
      "outputs": [
        {
          "output_type": "stream",
          "name": "stderr",
          "text": [
            "<ipython-input-3-c428651f12c9>:10: MatplotlibDeprecationWarning: The seaborn styles shipped by Matplotlib are deprecated since 3.6, as they no longer correspond to the styles shipped by seaborn. However, they will remain available as 'seaborn-v0_8-<style>'. Alternatively, directly use the seaborn API instead.\n",
            "  plt.style.use('seaborn-darkgrid')\n"
          ]
        }
      ]
    },
    {
      "cell_type": "markdown",
      "source": [
        "### **Step 2: Read Stock  data**"
      ],
      "metadata": {
        "id": "HKnxn1sNlFdX"
      }
    },
    {
      "cell_type": "markdown",
      "source": [
        "**We will Read the Stock Data Downloaded From Yahoo Finance Website. The Data Is stored in OHLC(Open, High, Low, Close)  format in a CSV file. To read a CSV file, you can use the read_csv() method of pandas.bold text**"
      ],
      "metadata": {
        "id": "Uq57wvvrlQKD"
      }
    },
    {
      "cell_type": "markdown",
      "source": [
        "### Read the csv file using read_csv\n",
        "### method of pandas"
      ],
      "metadata": {
        "id": "CZUxDwyuldKW"
      }
    },
    {
      "cell_type": "code",
      "execution_count": null,
      "metadata": {
        "id": "kcTVO9y04CDW",
        "colab": {
          "base_uri": "https://localhost:8080/",
          "height": 661
        },
        "outputId": "20ed6620-8edb-4e27-8db9-84ee33306c96"
      },
      "outputs": [
        {
          "output_type": "execute_result",
          "data": {
            "text/plain": [
              "            Date         Open         High          Low        Close  \\\n",
              "0     2015-11-18   463.799988   465.649994   454.975006   456.000000   \n",
              "1     2015-11-19   459.450012   469.350006   458.625000   467.375000   \n",
              "2     2015-11-20   467.000000   476.399994   462.774994   473.424988   \n",
              "3     2015-11-23   475.000000   478.950012   473.100006   476.875000   \n",
              "4     2015-11-24   476.500000   485.799988   475.524994   483.850006   \n",
              "...          ...          ...          ...          ...          ...   \n",
              "1228  2020-11-10  2077.000000  2090.000000  2041.199951  2084.550049   \n",
              "1229  2020-11-11  2089.000000  2095.000000  1978.099976  1997.199951   \n",
              "1230  2020-11-12  1981.000000  2008.449951  1965.000000  1980.000000   \n",
              "1231  2020-11-13  1982.000000  2036.650024  1981.750000  1996.400024   \n",
              "1232  2020-11-17  2085.000000  2085.000000  1985.000000  1993.250000   \n",
              "\n",
              "        Adj Close      Volume  \n",
              "0      436.671021   5142766.0  \n",
              "1      447.563873   5569752.0  \n",
              "2      453.357422   5167930.0  \n",
              "3      456.661224   4800026.0  \n",
              "4      463.340515   6768886.0  \n",
              "...           ...         ...  \n",
              "1228  2084.550049  17045147.0  \n",
              "1229  1997.199951  26178477.0  \n",
              "1230  1980.000000  18481466.0  \n",
              "1231  1996.400024  20946864.0  \n",
              "1232  1993.250000  21479385.0  \n",
              "\n",
              "[1233 rows x 7 columns]"
            ],
            "text/html": [
              "\n",
              "  <div id=\"df-1c4d9a49-79d1-492c-be9c-1beeca993c4d\">\n",
              "    <div class=\"colab-df-container\">\n",
              "      <div>\n",
              "<style scoped>\n",
              "    .dataframe tbody tr th:only-of-type {\n",
              "        vertical-align: middle;\n",
              "    }\n",
              "\n",
              "    .dataframe tbody tr th {\n",
              "        vertical-align: top;\n",
              "    }\n",
              "\n",
              "    .dataframe thead th {\n",
              "        text-align: right;\n",
              "    }\n",
              "</style>\n",
              "<table border=\"1\" class=\"dataframe\">\n",
              "  <thead>\n",
              "    <tr style=\"text-align: right;\">\n",
              "      <th></th>\n",
              "      <th>Date</th>\n",
              "      <th>Open</th>\n",
              "      <th>High</th>\n",
              "      <th>Low</th>\n",
              "      <th>Close</th>\n",
              "      <th>Adj Close</th>\n",
              "      <th>Volume</th>\n",
              "    </tr>\n",
              "  </thead>\n",
              "  <tbody>\n",
              "    <tr>\n",
              "      <th>0</th>\n",
              "      <td>2015-11-18</td>\n",
              "      <td>463.799988</td>\n",
              "      <td>465.649994</td>\n",
              "      <td>454.975006</td>\n",
              "      <td>456.000000</td>\n",
              "      <td>436.671021</td>\n",
              "      <td>5142766.0</td>\n",
              "    </tr>\n",
              "    <tr>\n",
              "      <th>1</th>\n",
              "      <td>2015-11-19</td>\n",
              "      <td>459.450012</td>\n",
              "      <td>469.350006</td>\n",
              "      <td>458.625000</td>\n",
              "      <td>467.375000</td>\n",
              "      <td>447.563873</td>\n",
              "      <td>5569752.0</td>\n",
              "    </tr>\n",
              "    <tr>\n",
              "      <th>2</th>\n",
              "      <td>2015-11-20</td>\n",
              "      <td>467.000000</td>\n",
              "      <td>476.399994</td>\n",
              "      <td>462.774994</td>\n",
              "      <td>473.424988</td>\n",
              "      <td>453.357422</td>\n",
              "      <td>5167930.0</td>\n",
              "    </tr>\n",
              "    <tr>\n",
              "      <th>3</th>\n",
              "      <td>2015-11-23</td>\n",
              "      <td>475.000000</td>\n",
              "      <td>478.950012</td>\n",
              "      <td>473.100006</td>\n",
              "      <td>476.875000</td>\n",
              "      <td>456.661224</td>\n",
              "      <td>4800026.0</td>\n",
              "    </tr>\n",
              "    <tr>\n",
              "      <th>4</th>\n",
              "      <td>2015-11-24</td>\n",
              "      <td>476.500000</td>\n",
              "      <td>485.799988</td>\n",
              "      <td>475.524994</td>\n",
              "      <td>483.850006</td>\n",
              "      <td>463.340515</td>\n",
              "      <td>6768886.0</td>\n",
              "    </tr>\n",
              "    <tr>\n",
              "      <th>...</th>\n",
              "      <td>...</td>\n",
              "      <td>...</td>\n",
              "      <td>...</td>\n",
              "      <td>...</td>\n",
              "      <td>...</td>\n",
              "      <td>...</td>\n",
              "      <td>...</td>\n",
              "    </tr>\n",
              "    <tr>\n",
              "      <th>1228</th>\n",
              "      <td>2020-11-10</td>\n",
              "      <td>2077.000000</td>\n",
              "      <td>2090.000000</td>\n",
              "      <td>2041.199951</td>\n",
              "      <td>2084.550049</td>\n",
              "      <td>2084.550049</td>\n",
              "      <td>17045147.0</td>\n",
              "    </tr>\n",
              "    <tr>\n",
              "      <th>1229</th>\n",
              "      <td>2020-11-11</td>\n",
              "      <td>2089.000000</td>\n",
              "      <td>2095.000000</td>\n",
              "      <td>1978.099976</td>\n",
              "      <td>1997.199951</td>\n",
              "      <td>1997.199951</td>\n",
              "      <td>26178477.0</td>\n",
              "    </tr>\n",
              "    <tr>\n",
              "      <th>1230</th>\n",
              "      <td>2020-11-12</td>\n",
              "      <td>1981.000000</td>\n",
              "      <td>2008.449951</td>\n",
              "      <td>1965.000000</td>\n",
              "      <td>1980.000000</td>\n",
              "      <td>1980.000000</td>\n",
              "      <td>18481466.0</td>\n",
              "    </tr>\n",
              "    <tr>\n",
              "      <th>1231</th>\n",
              "      <td>2020-11-13</td>\n",
              "      <td>1982.000000</td>\n",
              "      <td>2036.650024</td>\n",
              "      <td>1981.750000</td>\n",
              "      <td>1996.400024</td>\n",
              "      <td>1996.400024</td>\n",
              "      <td>20946864.0</td>\n",
              "    </tr>\n",
              "    <tr>\n",
              "      <th>1232</th>\n",
              "      <td>2020-11-17</td>\n",
              "      <td>2085.000000</td>\n",
              "      <td>2085.000000</td>\n",
              "      <td>1985.000000</td>\n",
              "      <td>1993.250000</td>\n",
              "      <td>1993.250000</td>\n",
              "      <td>21479385.0</td>\n",
              "    </tr>\n",
              "  </tbody>\n",
              "</table>\n",
              "<p>1233 rows × 7 columns</p>\n",
              "</div>\n",
              "      <button class=\"colab-df-convert\" onclick=\"convertToInteractive('df-1c4d9a49-79d1-492c-be9c-1beeca993c4d')\"\n",
              "              title=\"Convert this dataframe to an interactive table.\"\n",
              "              style=\"display:none;\">\n",
              "        \n",
              "  <svg xmlns=\"http://www.w3.org/2000/svg\" height=\"24px\"viewBox=\"0 0 24 24\"\n",
              "       width=\"24px\">\n",
              "    <path d=\"M0 0h24v24H0V0z\" fill=\"none\"/>\n",
              "    <path d=\"M18.56 5.44l.94 2.06.94-2.06 2.06-.94-2.06-.94-.94-2.06-.94 2.06-2.06.94zm-11 1L8.5 8.5l.94-2.06 2.06-.94-2.06-.94L8.5 2.5l-.94 2.06-2.06.94zm10 10l.94 2.06.94-2.06 2.06-.94-2.06-.94-.94-2.06-.94 2.06-2.06.94z\"/><path d=\"M17.41 7.96l-1.37-1.37c-.4-.4-.92-.59-1.43-.59-.52 0-1.04.2-1.43.59L10.3 9.45l-7.72 7.72c-.78.78-.78 2.05 0 2.83L4 21.41c.39.39.9.59 1.41.59.51 0 1.02-.2 1.41-.59l7.78-7.78 2.81-2.81c.8-.78.8-2.07 0-2.86zM5.41 20L4 18.59l7.72-7.72 1.47 1.35L5.41 20z\"/>\n",
              "  </svg>\n",
              "      </button>\n",
              "      \n",
              "  <style>\n",
              "    .colab-df-container {\n",
              "      display:flex;\n",
              "      flex-wrap:wrap;\n",
              "      gap: 12px;\n",
              "    }\n",
              "\n",
              "    .colab-df-convert {\n",
              "      background-color: #E8F0FE;\n",
              "      border: none;\n",
              "      border-radius: 50%;\n",
              "      cursor: pointer;\n",
              "      display: none;\n",
              "      fill: #1967D2;\n",
              "      height: 32px;\n",
              "      padding: 0 0 0 0;\n",
              "      width: 32px;\n",
              "    }\n",
              "\n",
              "    .colab-df-convert:hover {\n",
              "      background-color: #E2EBFA;\n",
              "      box-shadow: 0px 1px 2px rgba(60, 64, 67, 0.3), 0px 1px 3px 1px rgba(60, 64, 67, 0.15);\n",
              "      fill: #174EA6;\n",
              "    }\n",
              "\n",
              "    [theme=dark] .colab-df-convert {\n",
              "      background-color: #3B4455;\n",
              "      fill: #D2E3FC;\n",
              "    }\n",
              "\n",
              "    [theme=dark] .colab-df-convert:hover {\n",
              "      background-color: #434B5C;\n",
              "      box-shadow: 0px 1px 3px 1px rgba(0, 0, 0, 0.15);\n",
              "      filter: drop-shadow(0px 1px 2px rgba(0, 0, 0, 0.3));\n",
              "      fill: #FFFFFF;\n",
              "    }\n",
              "  </style>\n",
              "\n",
              "      <script>\n",
              "        const buttonEl =\n",
              "          document.querySelector('#df-1c4d9a49-79d1-492c-be9c-1beeca993c4d button.colab-df-convert');\n",
              "        buttonEl.style.display =\n",
              "          google.colab.kernel.accessAllowed ? 'block' : 'none';\n",
              "\n",
              "        async function convertToInteractive(key) {\n",
              "          const element = document.querySelector('#df-1c4d9a49-79d1-492c-be9c-1beeca993c4d');\n",
              "          const dataTable =\n",
              "            await google.colab.kernel.invokeFunction('convertToInteractive',\n",
              "                                                     [key], {});\n",
              "          if (!dataTable) return;\n",
              "\n",
              "          const docLinkHtml = 'Like what you see? Visit the ' +\n",
              "            '<a target=\"_blank\" href=https://colab.research.google.com/notebooks/data_table.ipynb>data table notebook</a>'\n",
              "            + ' to learn more about interactive tables.';\n",
              "          element.innerHTML = '';\n",
              "          dataTable['output_type'] = 'display_data';\n",
              "          await google.colab.output.renderOutput(dataTable, element);\n",
              "          const docLink = document.createElement('div');\n",
              "          docLink.innerHTML = docLinkHtml;\n",
              "          element.appendChild(docLink);\n",
              "        }\n",
              "      </script>\n",
              "    </div>\n",
              "  </div>\n",
              "  "
            ]
          },
          "metadata": {},
          "execution_count": 6
        }
      ],
      "source": [
        "df=pd.read_csv('/content/contentdrive/MyDrive/Reliance.csv')\n",
        "df"
      ]
    },
    {
      "cell_type": "code",
      "execution_count": null,
      "metadata": {
        "id": "Cr4eIOO74UNR"
      },
      "outputs": [],
      "source": []
    },
    {
      "cell_type": "markdown",
      "source": [
        "### **Step 3: Data Preparation**"
      ],
      "metadata": {
        "id": "mBF5TnUhl49X"
      }
    },
    {
      "cell_type": "markdown",
      "source": [
        "**The data needed to be processed before use such that the date column should act as an index to do that bold text**"
      ],
      "metadata": {
        "id": "R96c0s65mN-K"
      }
    },
    {
      "cell_type": "code",
      "source": [
        "df.isna().sum()"
      ],
      "metadata": {
        "colab": {
          "base_uri": "https://localhost:8080/"
        },
        "id": "ZwAUTI30ePRC",
        "outputId": "0c08f63b-4c76-4f90-8572-011b53871f1c"
      },
      "execution_count": null,
      "outputs": [
        {
          "output_type": "execute_result",
          "data": {
            "text/plain": [
              "Open          1\n",
              "High          1\n",
              "Low           1\n",
              "Close         1\n",
              "Adj Close     1\n",
              "Volume        1\n",
              "Open-Close    1\n",
              "High-Low      1\n",
              "Return        1\n",
              "Cum_Ret       1\n",
              "dtype: int64"
            ]
          },
          "metadata": {},
          "execution_count": 34
        }
      ]
    },
    {
      "cell_type": "code",
      "source": [
        "df.dropna"
      ],
      "metadata": {
        "colab": {
          "base_uri": "https://localhost:8080/"
        },
        "id": "Xj_jj6NAficE",
        "outputId": "cfffd233-07df-46be-dcf4-199e17bb32ec"
      },
      "execution_count": null,
      "outputs": [
        {
          "output_type": "execute_result",
          "data": {
            "text/plain": [
              "<bound method DataFrame.dropna of                    Open         High          Low        Close    Adj Close  \\\n",
              "Date                                                                          \n",
              "2015-11-18   463.799988   465.649994   454.975006   456.000000   436.671021   \n",
              "2015-11-19   459.450012   469.350006   458.625000   467.375000   447.563873   \n",
              "2015-11-20   467.000000   476.399994   462.774994   473.424988   453.357422   \n",
              "2015-11-23   475.000000   478.950012   473.100006   476.875000   456.661224   \n",
              "2015-11-24   476.500000   485.799988   475.524994   483.850006   463.340515   \n",
              "...                 ...          ...          ...          ...          ...   \n",
              "2020-11-10  2077.000000  2090.000000  2041.199951  2084.550049  2084.550049   \n",
              "2020-11-11  2089.000000  2095.000000  1978.099976  1997.199951  1997.199951   \n",
              "2020-11-12  1981.000000  2008.449951  1965.000000  1980.000000  1980.000000   \n",
              "2020-11-13  1982.000000  2036.650024  1981.750000  1996.400024  1996.400024   \n",
              "2020-11-17  2085.000000  2085.000000  1985.000000  1993.250000  1993.250000   \n",
              "\n",
              "                Volume  Open-Close    High-Low    Return   Cum_Ret  \n",
              "Date                                                                \n",
              "2015-11-18   5142766.0    7.799988   10.674988       NaN       NaN  \n",
              "2015-11-19   5569752.0   -7.924988   10.725006  0.024945  0.024945  \n",
              "2015-11-20   5167930.0   -6.424988   13.625000  0.012945  0.037890  \n",
              "2015-11-23   4800026.0   -1.875000    5.850006  0.007287  0.045177  \n",
              "2015-11-24   6768886.0   -7.350006   10.274994  0.014626  0.059804  \n",
              "...                ...         ...         ...       ...       ...  \n",
              "2020-11-10  17045147.0   -7.550049   48.800049  0.016507  1.750897  \n",
              "2020-11-11  26178477.0   91.800049  116.900024 -0.041904  1.708994  \n",
              "2020-11-12  18481466.0    1.000000   43.449951 -0.008612  1.700382  \n",
              "2020-11-13  20946864.0  -14.400024   54.900024  0.008283  1.708665  \n",
              "2020-11-17  21479385.0   91.750000  100.000000 -0.001578  1.707087  \n",
              "\n",
              "[1233 rows x 10 columns]>"
            ]
          },
          "metadata": {},
          "execution_count": 41
        }
      ]
    },
    {
      "cell_type": "code",
      "source": [
        "df.isna().sum()"
      ],
      "metadata": {
        "colab": {
          "base_uri": "https://localhost:8080/"
        },
        "id": "0lO41D2KfpbF",
        "outputId": "df24e1f9-9e34-4847-ee5b-2e0c3bc057da"
      },
      "execution_count": null,
      "outputs": [
        {
          "output_type": "execute_result",
          "data": {
            "text/plain": [
              "Open          1\n",
              "High          1\n",
              "Low           1\n",
              "Close         1\n",
              "Adj Close     1\n",
              "Volume        1\n",
              "Open-Close    0\n",
              "High-Low      1\n",
              "Return        1\n",
              "Cum_Ret       1\n",
              "dtype: int64"
            ]
          },
          "metadata": {},
          "execution_count": 42
        }
      ]
    },
    {
      "cell_type": "code",
      "source": [
        "mean_v=df['Open-Close'].mean()\n",
        "mean_v"
      ],
      "metadata": {
        "colab": {
          "base_uri": "https://localhost:8080/"
        },
        "id": "w3cfgzkseYSg",
        "outputId": "d5d693a7-cf62-4e86-a5f2-b7ac997a8d2d"
      },
      "execution_count": null,
      "outputs": [
        {
          "output_type": "execute_result",
          "data": {
            "text/plain": [
              "0.8709124464285727"
            ]
          },
          "metadata": {},
          "execution_count": 44
        }
      ]
    },
    {
      "cell_type": "code",
      "source": [
        "df.fillna(mean_v,inplace=True)\n",
        "df.isnull().sum()"
      ],
      "metadata": {
        "colab": {
          "base_uri": "https://localhost:8080/"
        },
        "id": "Ckk8dULxf6E3",
        "outputId": "e6a13d50-a10f-417c-8ac3-678945d65574"
      },
      "execution_count": null,
      "outputs": [
        {
          "output_type": "execute_result",
          "data": {
            "text/plain": [
              "Open          0\n",
              "High          0\n",
              "Low           0\n",
              "Close         0\n",
              "Adj Close     0\n",
              "Volume        0\n",
              "Open-Close    0\n",
              "High-Low      0\n",
              "Return        0\n",
              "Cum_Ret       0\n",
              "dtype: int64"
            ]
          },
          "metadata": {},
          "execution_count": 47
        }
      ]
    },
    {
      "cell_type": "code",
      "execution_count": null,
      "metadata": {
        "colab": {
          "base_uri": "https://localhost:8080/",
          "height": 455
        },
        "id": "mHXR0Dkg4ZUr",
        "outputId": "45635fab-50c4-41dd-fa6e-e4a4d1f95d0c"
      },
      "outputs": [
        {
          "output_type": "execute_result",
          "data": {
            "text/plain": [
              "                  Date         Open         High          Low        Close  \\\n",
              "Date                                                                         \n",
              "2015-11-18  2015-11-18   463.799988   465.649994   454.975006   456.000000   \n",
              "2015-11-19  2015-11-19   459.450012   469.350006   458.625000   467.375000   \n",
              "2015-11-20  2015-11-20   467.000000   476.399994   462.774994   473.424988   \n",
              "2015-11-23  2015-11-23   475.000000   478.950012   473.100006   476.875000   \n",
              "2015-11-24  2015-11-24   476.500000   485.799988   475.524994   483.850006   \n",
              "...                ...          ...          ...          ...          ...   \n",
              "2020-11-10  2020-11-10  2077.000000  2090.000000  2041.199951  2084.550049   \n",
              "2020-11-11  2020-11-11  2089.000000  2095.000000  1978.099976  1997.199951   \n",
              "2020-11-12  2020-11-12  1981.000000  2008.449951  1965.000000  1980.000000   \n",
              "2020-11-13  2020-11-13  1982.000000  2036.650024  1981.750000  1996.400024   \n",
              "2020-11-17  2020-11-17  2085.000000  2085.000000  1985.000000  1993.250000   \n",
              "\n",
              "              Adj Close      Volume  \n",
              "Date                                 \n",
              "2015-11-18   436.671021   5142766.0  \n",
              "2015-11-19   447.563873   5569752.0  \n",
              "2015-11-20   453.357422   5167930.0  \n",
              "2015-11-23   456.661224   4800026.0  \n",
              "2015-11-24   463.340515   6768886.0  \n",
              "...                 ...         ...  \n",
              "2020-11-10  2084.550049  17045147.0  \n",
              "2020-11-11  1997.199951  26178477.0  \n",
              "2020-11-12  1980.000000  18481466.0  \n",
              "2020-11-13  1996.400024  20946864.0  \n",
              "2020-11-17  1993.250000  21479385.0  \n",
              "\n",
              "[1233 rows x 7 columns]"
            ],
            "text/html": [
              "\n",
              "  <div id=\"df-5a8ba309-8420-4129-889f-30bf46b5b869\">\n",
              "    <div class=\"colab-df-container\">\n",
              "      <div>\n",
              "<style scoped>\n",
              "    .dataframe tbody tr th:only-of-type {\n",
              "        vertical-align: middle;\n",
              "    }\n",
              "\n",
              "    .dataframe tbody tr th {\n",
              "        vertical-align: top;\n",
              "    }\n",
              "\n",
              "    .dataframe thead th {\n",
              "        text-align: right;\n",
              "    }\n",
              "</style>\n",
              "<table border=\"1\" class=\"dataframe\">\n",
              "  <thead>\n",
              "    <tr style=\"text-align: right;\">\n",
              "      <th></th>\n",
              "      <th>Date</th>\n",
              "      <th>Open</th>\n",
              "      <th>High</th>\n",
              "      <th>Low</th>\n",
              "      <th>Close</th>\n",
              "      <th>Adj Close</th>\n",
              "      <th>Volume</th>\n",
              "    </tr>\n",
              "    <tr>\n",
              "      <th>Date</th>\n",
              "      <th></th>\n",
              "      <th></th>\n",
              "      <th></th>\n",
              "      <th></th>\n",
              "      <th></th>\n",
              "      <th></th>\n",
              "      <th></th>\n",
              "    </tr>\n",
              "  </thead>\n",
              "  <tbody>\n",
              "    <tr>\n",
              "      <th>2015-11-18</th>\n",
              "      <td>2015-11-18</td>\n",
              "      <td>463.799988</td>\n",
              "      <td>465.649994</td>\n",
              "      <td>454.975006</td>\n",
              "      <td>456.000000</td>\n",
              "      <td>436.671021</td>\n",
              "      <td>5142766.0</td>\n",
              "    </tr>\n",
              "    <tr>\n",
              "      <th>2015-11-19</th>\n",
              "      <td>2015-11-19</td>\n",
              "      <td>459.450012</td>\n",
              "      <td>469.350006</td>\n",
              "      <td>458.625000</td>\n",
              "      <td>467.375000</td>\n",
              "      <td>447.563873</td>\n",
              "      <td>5569752.0</td>\n",
              "    </tr>\n",
              "    <tr>\n",
              "      <th>2015-11-20</th>\n",
              "      <td>2015-11-20</td>\n",
              "      <td>467.000000</td>\n",
              "      <td>476.399994</td>\n",
              "      <td>462.774994</td>\n",
              "      <td>473.424988</td>\n",
              "      <td>453.357422</td>\n",
              "      <td>5167930.0</td>\n",
              "    </tr>\n",
              "    <tr>\n",
              "      <th>2015-11-23</th>\n",
              "      <td>2015-11-23</td>\n",
              "      <td>475.000000</td>\n",
              "      <td>478.950012</td>\n",
              "      <td>473.100006</td>\n",
              "      <td>476.875000</td>\n",
              "      <td>456.661224</td>\n",
              "      <td>4800026.0</td>\n",
              "    </tr>\n",
              "    <tr>\n",
              "      <th>2015-11-24</th>\n",
              "      <td>2015-11-24</td>\n",
              "      <td>476.500000</td>\n",
              "      <td>485.799988</td>\n",
              "      <td>475.524994</td>\n",
              "      <td>483.850006</td>\n",
              "      <td>463.340515</td>\n",
              "      <td>6768886.0</td>\n",
              "    </tr>\n",
              "    <tr>\n",
              "      <th>...</th>\n",
              "      <td>...</td>\n",
              "      <td>...</td>\n",
              "      <td>...</td>\n",
              "      <td>...</td>\n",
              "      <td>...</td>\n",
              "      <td>...</td>\n",
              "      <td>...</td>\n",
              "    </tr>\n",
              "    <tr>\n",
              "      <th>2020-11-10</th>\n",
              "      <td>2020-11-10</td>\n",
              "      <td>2077.000000</td>\n",
              "      <td>2090.000000</td>\n",
              "      <td>2041.199951</td>\n",
              "      <td>2084.550049</td>\n",
              "      <td>2084.550049</td>\n",
              "      <td>17045147.0</td>\n",
              "    </tr>\n",
              "    <tr>\n",
              "      <th>2020-11-11</th>\n",
              "      <td>2020-11-11</td>\n",
              "      <td>2089.000000</td>\n",
              "      <td>2095.000000</td>\n",
              "      <td>1978.099976</td>\n",
              "      <td>1997.199951</td>\n",
              "      <td>1997.199951</td>\n",
              "      <td>26178477.0</td>\n",
              "    </tr>\n",
              "    <tr>\n",
              "      <th>2020-11-12</th>\n",
              "      <td>2020-11-12</td>\n",
              "      <td>1981.000000</td>\n",
              "      <td>2008.449951</td>\n",
              "      <td>1965.000000</td>\n",
              "      <td>1980.000000</td>\n",
              "      <td>1980.000000</td>\n",
              "      <td>18481466.0</td>\n",
              "    </tr>\n",
              "    <tr>\n",
              "      <th>2020-11-13</th>\n",
              "      <td>2020-11-13</td>\n",
              "      <td>1982.000000</td>\n",
              "      <td>2036.650024</td>\n",
              "      <td>1981.750000</td>\n",
              "      <td>1996.400024</td>\n",
              "      <td>1996.400024</td>\n",
              "      <td>20946864.0</td>\n",
              "    </tr>\n",
              "    <tr>\n",
              "      <th>2020-11-17</th>\n",
              "      <td>2020-11-17</td>\n",
              "      <td>2085.000000</td>\n",
              "      <td>2085.000000</td>\n",
              "      <td>1985.000000</td>\n",
              "      <td>1993.250000</td>\n",
              "      <td>1993.250000</td>\n",
              "      <td>21479385.0</td>\n",
              "    </tr>\n",
              "  </tbody>\n",
              "</table>\n",
              "<p>1233 rows × 7 columns</p>\n",
              "</div>\n",
              "      <button class=\"colab-df-convert\" onclick=\"convertToInteractive('df-5a8ba309-8420-4129-889f-30bf46b5b869')\"\n",
              "              title=\"Convert this dataframe to an interactive table.\"\n",
              "              style=\"display:none;\">\n",
              "        \n",
              "  <svg xmlns=\"http://www.w3.org/2000/svg\" height=\"24px\"viewBox=\"0 0 24 24\"\n",
              "       width=\"24px\">\n",
              "    <path d=\"M0 0h24v24H0V0z\" fill=\"none\"/>\n",
              "    <path d=\"M18.56 5.44l.94 2.06.94-2.06 2.06-.94-2.06-.94-.94-2.06-.94 2.06-2.06.94zm-11 1L8.5 8.5l.94-2.06 2.06-.94-2.06-.94L8.5 2.5l-.94 2.06-2.06.94zm10 10l.94 2.06.94-2.06 2.06-.94-2.06-.94-.94-2.06-.94 2.06-2.06.94z\"/><path d=\"M17.41 7.96l-1.37-1.37c-.4-.4-.92-.59-1.43-.59-.52 0-1.04.2-1.43.59L10.3 9.45l-7.72 7.72c-.78.78-.78 2.05 0 2.83L4 21.41c.39.39.9.59 1.41.59.51 0 1.02-.2 1.41-.59l7.78-7.78 2.81-2.81c.8-.78.8-2.07 0-2.86zM5.41 20L4 18.59l7.72-7.72 1.47 1.35L5.41 20z\"/>\n",
              "  </svg>\n",
              "      </button>\n",
              "      \n",
              "  <style>\n",
              "    .colab-df-container {\n",
              "      display:flex;\n",
              "      flex-wrap:wrap;\n",
              "      gap: 12px;\n",
              "    }\n",
              "\n",
              "    .colab-df-convert {\n",
              "      background-color: #E8F0FE;\n",
              "      border: none;\n",
              "      border-radius: 50%;\n",
              "      cursor: pointer;\n",
              "      display: none;\n",
              "      fill: #1967D2;\n",
              "      height: 32px;\n",
              "      padding: 0 0 0 0;\n",
              "      width: 32px;\n",
              "    }\n",
              "\n",
              "    .colab-df-convert:hover {\n",
              "      background-color: #E2EBFA;\n",
              "      box-shadow: 0px 1px 2px rgba(60, 64, 67, 0.3), 0px 1px 3px 1px rgba(60, 64, 67, 0.15);\n",
              "      fill: #174EA6;\n",
              "    }\n",
              "\n",
              "    [theme=dark] .colab-df-convert {\n",
              "      background-color: #3B4455;\n",
              "      fill: #D2E3FC;\n",
              "    }\n",
              "\n",
              "    [theme=dark] .colab-df-convert:hover {\n",
              "      background-color: #434B5C;\n",
              "      box-shadow: 0px 1px 3px 1px rgba(0, 0, 0, 0.15);\n",
              "      filter: drop-shadow(0px 1px 2px rgba(0, 0, 0, 0.3));\n",
              "      fill: #FFFFFF;\n",
              "    }\n",
              "  </style>\n",
              "\n",
              "      <script>\n",
              "        const buttonEl =\n",
              "          document.querySelector('#df-5a8ba309-8420-4129-889f-30bf46b5b869 button.colab-df-convert');\n",
              "        buttonEl.style.display =\n",
              "          google.colab.kernel.accessAllowed ? 'block' : 'none';\n",
              "\n",
              "        async function convertToInteractive(key) {\n",
              "          const element = document.querySelector('#df-5a8ba309-8420-4129-889f-30bf46b5b869');\n",
              "          const dataTable =\n",
              "            await google.colab.kernel.invokeFunction('convertToInteractive',\n",
              "                                                     [key], {});\n",
              "          if (!dataTable) return;\n",
              "\n",
              "          const docLinkHtml = 'Like what you see? Visit the ' +\n",
              "            '<a target=\"_blank\" href=https://colab.research.google.com/notebooks/data_table.ipynb>data table notebook</a>'\n",
              "            + ' to learn more about interactive tables.';\n",
              "          element.innerHTML = '';\n",
              "          dataTable['output_type'] = 'display_data';\n",
              "          await google.colab.output.renderOutput(dataTable, element);\n",
              "          const docLink = document.createElement('div');\n",
              "          docLink.innerHTML = docLinkHtml;\n",
              "          element.appendChild(docLink);\n",
              "        }\n",
              "      </script>\n",
              "    </div>\n",
              "  </div>\n",
              "  "
            ]
          },
          "metadata": {},
          "execution_count": 13
        }
      ],
      "source": [
        "df.index = pd.to_datetime(df['Date'])\n",
        "df"
      ]
    },
    {
      "cell_type": "code",
      "source": [
        "df = df.drop(['Date'], axis='columns')\n",
        "df"
      ],
      "metadata": {
        "colab": {
          "base_uri": "https://localhost:8080/",
          "height": 455
        },
        "id": "Zh_TSfVCa-R1",
        "outputId": "d3561308-ae3b-4e81-b31c-b03eeaa564df"
      },
      "execution_count": null,
      "outputs": [
        {
          "output_type": "execute_result",
          "data": {
            "text/plain": [
              "                   Open         High          Low        Close    Adj Close  \\\n",
              "Date                                                                          \n",
              "2015-11-18   463.799988   465.649994   454.975006   456.000000   436.671021   \n",
              "2015-11-19   459.450012   469.350006   458.625000   467.375000   447.563873   \n",
              "2015-11-20   467.000000   476.399994   462.774994   473.424988   453.357422   \n",
              "2015-11-23   475.000000   478.950012   473.100006   476.875000   456.661224   \n",
              "2015-11-24   476.500000   485.799988   475.524994   483.850006   463.340515   \n",
              "...                 ...          ...          ...          ...          ...   \n",
              "2020-11-10  2077.000000  2090.000000  2041.199951  2084.550049  2084.550049   \n",
              "2020-11-11  2089.000000  2095.000000  1978.099976  1997.199951  1997.199951   \n",
              "2020-11-12  1981.000000  2008.449951  1965.000000  1980.000000  1980.000000   \n",
              "2020-11-13  1982.000000  2036.650024  1981.750000  1996.400024  1996.400024   \n",
              "2020-11-17  2085.000000  2085.000000  1985.000000  1993.250000  1993.250000   \n",
              "\n",
              "                Volume  \n",
              "Date                    \n",
              "2015-11-18   5142766.0  \n",
              "2015-11-19   5569752.0  \n",
              "2015-11-20   5167930.0  \n",
              "2015-11-23   4800026.0  \n",
              "2015-11-24   6768886.0  \n",
              "...                ...  \n",
              "2020-11-10  17045147.0  \n",
              "2020-11-11  26178477.0  \n",
              "2020-11-12  18481466.0  \n",
              "2020-11-13  20946864.0  \n",
              "2020-11-17  21479385.0  \n",
              "\n",
              "[1233 rows x 6 columns]"
            ],
            "text/html": [
              "\n",
              "  <div id=\"df-38d29fe9-5bec-4944-9aee-610d205b8822\">\n",
              "    <div class=\"colab-df-container\">\n",
              "      <div>\n",
              "<style scoped>\n",
              "    .dataframe tbody tr th:only-of-type {\n",
              "        vertical-align: middle;\n",
              "    }\n",
              "\n",
              "    .dataframe tbody tr th {\n",
              "        vertical-align: top;\n",
              "    }\n",
              "\n",
              "    .dataframe thead th {\n",
              "        text-align: right;\n",
              "    }\n",
              "</style>\n",
              "<table border=\"1\" class=\"dataframe\">\n",
              "  <thead>\n",
              "    <tr style=\"text-align: right;\">\n",
              "      <th></th>\n",
              "      <th>Open</th>\n",
              "      <th>High</th>\n",
              "      <th>Low</th>\n",
              "      <th>Close</th>\n",
              "      <th>Adj Close</th>\n",
              "      <th>Volume</th>\n",
              "    </tr>\n",
              "    <tr>\n",
              "      <th>Date</th>\n",
              "      <th></th>\n",
              "      <th></th>\n",
              "      <th></th>\n",
              "      <th></th>\n",
              "      <th></th>\n",
              "      <th></th>\n",
              "    </tr>\n",
              "  </thead>\n",
              "  <tbody>\n",
              "    <tr>\n",
              "      <th>2015-11-18</th>\n",
              "      <td>463.799988</td>\n",
              "      <td>465.649994</td>\n",
              "      <td>454.975006</td>\n",
              "      <td>456.000000</td>\n",
              "      <td>436.671021</td>\n",
              "      <td>5142766.0</td>\n",
              "    </tr>\n",
              "    <tr>\n",
              "      <th>2015-11-19</th>\n",
              "      <td>459.450012</td>\n",
              "      <td>469.350006</td>\n",
              "      <td>458.625000</td>\n",
              "      <td>467.375000</td>\n",
              "      <td>447.563873</td>\n",
              "      <td>5569752.0</td>\n",
              "    </tr>\n",
              "    <tr>\n",
              "      <th>2015-11-20</th>\n",
              "      <td>467.000000</td>\n",
              "      <td>476.399994</td>\n",
              "      <td>462.774994</td>\n",
              "      <td>473.424988</td>\n",
              "      <td>453.357422</td>\n",
              "      <td>5167930.0</td>\n",
              "    </tr>\n",
              "    <tr>\n",
              "      <th>2015-11-23</th>\n",
              "      <td>475.000000</td>\n",
              "      <td>478.950012</td>\n",
              "      <td>473.100006</td>\n",
              "      <td>476.875000</td>\n",
              "      <td>456.661224</td>\n",
              "      <td>4800026.0</td>\n",
              "    </tr>\n",
              "    <tr>\n",
              "      <th>2015-11-24</th>\n",
              "      <td>476.500000</td>\n",
              "      <td>485.799988</td>\n",
              "      <td>475.524994</td>\n",
              "      <td>483.850006</td>\n",
              "      <td>463.340515</td>\n",
              "      <td>6768886.0</td>\n",
              "    </tr>\n",
              "    <tr>\n",
              "      <th>...</th>\n",
              "      <td>...</td>\n",
              "      <td>...</td>\n",
              "      <td>...</td>\n",
              "      <td>...</td>\n",
              "      <td>...</td>\n",
              "      <td>...</td>\n",
              "    </tr>\n",
              "    <tr>\n",
              "      <th>2020-11-10</th>\n",
              "      <td>2077.000000</td>\n",
              "      <td>2090.000000</td>\n",
              "      <td>2041.199951</td>\n",
              "      <td>2084.550049</td>\n",
              "      <td>2084.550049</td>\n",
              "      <td>17045147.0</td>\n",
              "    </tr>\n",
              "    <tr>\n",
              "      <th>2020-11-11</th>\n",
              "      <td>2089.000000</td>\n",
              "      <td>2095.000000</td>\n",
              "      <td>1978.099976</td>\n",
              "      <td>1997.199951</td>\n",
              "      <td>1997.199951</td>\n",
              "      <td>26178477.0</td>\n",
              "    </tr>\n",
              "    <tr>\n",
              "      <th>2020-11-12</th>\n",
              "      <td>1981.000000</td>\n",
              "      <td>2008.449951</td>\n",
              "      <td>1965.000000</td>\n",
              "      <td>1980.000000</td>\n",
              "      <td>1980.000000</td>\n",
              "      <td>18481466.0</td>\n",
              "    </tr>\n",
              "    <tr>\n",
              "      <th>2020-11-13</th>\n",
              "      <td>1982.000000</td>\n",
              "      <td>2036.650024</td>\n",
              "      <td>1981.750000</td>\n",
              "      <td>1996.400024</td>\n",
              "      <td>1996.400024</td>\n",
              "      <td>20946864.0</td>\n",
              "    </tr>\n",
              "    <tr>\n",
              "      <th>2020-11-17</th>\n",
              "      <td>2085.000000</td>\n",
              "      <td>2085.000000</td>\n",
              "      <td>1985.000000</td>\n",
              "      <td>1993.250000</td>\n",
              "      <td>1993.250000</td>\n",
              "      <td>21479385.0</td>\n",
              "    </tr>\n",
              "  </tbody>\n",
              "</table>\n",
              "<p>1233 rows × 6 columns</p>\n",
              "</div>\n",
              "      <button class=\"colab-df-convert\" onclick=\"convertToInteractive('df-38d29fe9-5bec-4944-9aee-610d205b8822')\"\n",
              "              title=\"Convert this dataframe to an interactive table.\"\n",
              "              style=\"display:none;\">\n",
              "        \n",
              "  <svg xmlns=\"http://www.w3.org/2000/svg\" height=\"24px\"viewBox=\"0 0 24 24\"\n",
              "       width=\"24px\">\n",
              "    <path d=\"M0 0h24v24H0V0z\" fill=\"none\"/>\n",
              "    <path d=\"M18.56 5.44l.94 2.06.94-2.06 2.06-.94-2.06-.94-.94-2.06-.94 2.06-2.06.94zm-11 1L8.5 8.5l.94-2.06 2.06-.94-2.06-.94L8.5 2.5l-.94 2.06-2.06.94zm10 10l.94 2.06.94-2.06 2.06-.94-2.06-.94-.94-2.06-.94 2.06-2.06.94z\"/><path d=\"M17.41 7.96l-1.37-1.37c-.4-.4-.92-.59-1.43-.59-.52 0-1.04.2-1.43.59L10.3 9.45l-7.72 7.72c-.78.78-.78 2.05 0 2.83L4 21.41c.39.39.9.59 1.41.59.51 0 1.02-.2 1.41-.59l7.78-7.78 2.81-2.81c.8-.78.8-2.07 0-2.86zM5.41 20L4 18.59l7.72-7.72 1.47 1.35L5.41 20z\"/>\n",
              "  </svg>\n",
              "      </button>\n",
              "      \n",
              "  <style>\n",
              "    .colab-df-container {\n",
              "      display:flex;\n",
              "      flex-wrap:wrap;\n",
              "      gap: 12px;\n",
              "    }\n",
              "\n",
              "    .colab-df-convert {\n",
              "      background-color: #E8F0FE;\n",
              "      border: none;\n",
              "      border-radius: 50%;\n",
              "      cursor: pointer;\n",
              "      display: none;\n",
              "      fill: #1967D2;\n",
              "      height: 32px;\n",
              "      padding: 0 0 0 0;\n",
              "      width: 32px;\n",
              "    }\n",
              "\n",
              "    .colab-df-convert:hover {\n",
              "      background-color: #E2EBFA;\n",
              "      box-shadow: 0px 1px 2px rgba(60, 64, 67, 0.3), 0px 1px 3px 1px rgba(60, 64, 67, 0.15);\n",
              "      fill: #174EA6;\n",
              "    }\n",
              "\n",
              "    [theme=dark] .colab-df-convert {\n",
              "      background-color: #3B4455;\n",
              "      fill: #D2E3FC;\n",
              "    }\n",
              "\n",
              "    [theme=dark] .colab-df-convert:hover {\n",
              "      background-color: #434B5C;\n",
              "      box-shadow: 0px 1px 3px 1px rgba(0, 0, 0, 0.15);\n",
              "      filter: drop-shadow(0px 1px 2px rgba(0, 0, 0, 0.3));\n",
              "      fill: #FFFFFF;\n",
              "    }\n",
              "  </style>\n",
              "\n",
              "      <script>\n",
              "        const buttonEl =\n",
              "          document.querySelector('#df-38d29fe9-5bec-4944-9aee-610d205b8822 button.colab-df-convert');\n",
              "        buttonEl.style.display =\n",
              "          google.colab.kernel.accessAllowed ? 'block' : 'none';\n",
              "\n",
              "        async function convertToInteractive(key) {\n",
              "          const element = document.querySelector('#df-38d29fe9-5bec-4944-9aee-610d205b8822');\n",
              "          const dataTable =\n",
              "            await google.colab.kernel.invokeFunction('convertToInteractive',\n",
              "                                                     [key], {});\n",
              "          if (!dataTable) return;\n",
              "\n",
              "          const docLinkHtml = 'Like what you see? Visit the ' +\n",
              "            '<a target=\"_blank\" href=https://colab.research.google.com/notebooks/data_table.ipynb>data table notebook</a>'\n",
              "            + ' to learn more about interactive tables.';\n",
              "          element.innerHTML = '';\n",
              "          dataTable['output_type'] = 'display_data';\n",
              "          await google.colab.output.renderOutput(dataTable, element);\n",
              "          const docLink = document.createElement('div');\n",
              "          docLink.innerHTML = docLinkHtml;\n",
              "          element.appendChild(docLink);\n",
              "        }\n",
              "      </script>\n",
              "    </div>\n",
              "  </div>\n",
              "  "
            ]
          },
          "metadata": {},
          "execution_count": 14
        }
      ]
    },
    {
      "cell_type": "markdown",
      "source": [
        "#### **Step 4: Define the explanatory variables**"
      ],
      "metadata": {
        "id": "EvV2TJdjmock"
      }
    },
    {
      "cell_type": "markdown",
      "source": [
        "**Explanatory or independent variables are used to predict the value response variable. The X is a dataset that holds the variables which are used for prediction. The X consists of variables such as ‘Open – Close’ and ‘High – Low’. These can be understood as indicators based on which the algorithm will predict tomorrow’s trend. Feel free to add more indicators and see the performance**"
      ],
      "metadata": {
        "id": "vfuii6Tdm4D9"
      }
    },
    {
      "cell_type": "code",
      "source": [
        "df['Open-Close'] = df.Open - df.Close\n",
        "df['High-Low'] = df.High - df.Low\n",
        "X = df[['Open-Close', 'High-Low']]\n",
        "X.head()"
      ],
      "metadata": {
        "colab": {
          "base_uri": "https://localhost:8080/",
          "height": 237
        },
        "id": "lRsAbk38bJS4",
        "outputId": "7f059eae-dfbf-41ae-a90f-760c3e387710"
      },
      "execution_count": null,
      "outputs": [
        {
          "output_type": "execute_result",
          "data": {
            "text/plain": [
              "            Open-Close   High-Low\n",
              "Date                             \n",
              "2015-11-18    7.799988  10.674988\n",
              "2015-11-19   -7.924988  10.725006\n",
              "2015-11-20   -6.424988  13.625000\n",
              "2015-11-23   -1.875000   5.850006\n",
              "2015-11-24   -7.350006  10.274994"
            ],
            "text/html": [
              "\n",
              "  <div id=\"df-10805186-e8c7-4d44-9067-531b383dc110\">\n",
              "    <div class=\"colab-df-container\">\n",
              "      <div>\n",
              "<style scoped>\n",
              "    .dataframe tbody tr th:only-of-type {\n",
              "        vertical-align: middle;\n",
              "    }\n",
              "\n",
              "    .dataframe tbody tr th {\n",
              "        vertical-align: top;\n",
              "    }\n",
              "\n",
              "    .dataframe thead th {\n",
              "        text-align: right;\n",
              "    }\n",
              "</style>\n",
              "<table border=\"1\" class=\"dataframe\">\n",
              "  <thead>\n",
              "    <tr style=\"text-align: right;\">\n",
              "      <th></th>\n",
              "      <th>Open-Close</th>\n",
              "      <th>High-Low</th>\n",
              "    </tr>\n",
              "    <tr>\n",
              "      <th>Date</th>\n",
              "      <th></th>\n",
              "      <th></th>\n",
              "    </tr>\n",
              "  </thead>\n",
              "  <tbody>\n",
              "    <tr>\n",
              "      <th>2015-11-18</th>\n",
              "      <td>7.799988</td>\n",
              "      <td>10.674988</td>\n",
              "    </tr>\n",
              "    <tr>\n",
              "      <th>2015-11-19</th>\n",
              "      <td>-7.924988</td>\n",
              "      <td>10.725006</td>\n",
              "    </tr>\n",
              "    <tr>\n",
              "      <th>2015-11-20</th>\n",
              "      <td>-6.424988</td>\n",
              "      <td>13.625000</td>\n",
              "    </tr>\n",
              "    <tr>\n",
              "      <th>2015-11-23</th>\n",
              "      <td>-1.875000</td>\n",
              "      <td>5.850006</td>\n",
              "    </tr>\n",
              "    <tr>\n",
              "      <th>2015-11-24</th>\n",
              "      <td>-7.350006</td>\n",
              "      <td>10.274994</td>\n",
              "    </tr>\n",
              "  </tbody>\n",
              "</table>\n",
              "</div>\n",
              "      <button class=\"colab-df-convert\" onclick=\"convertToInteractive('df-10805186-e8c7-4d44-9067-531b383dc110')\"\n",
              "              title=\"Convert this dataframe to an interactive table.\"\n",
              "              style=\"display:none;\">\n",
              "        \n",
              "  <svg xmlns=\"http://www.w3.org/2000/svg\" height=\"24px\"viewBox=\"0 0 24 24\"\n",
              "       width=\"24px\">\n",
              "    <path d=\"M0 0h24v24H0V0z\" fill=\"none\"/>\n",
              "    <path d=\"M18.56 5.44l.94 2.06.94-2.06 2.06-.94-2.06-.94-.94-2.06-.94 2.06-2.06.94zm-11 1L8.5 8.5l.94-2.06 2.06-.94-2.06-.94L8.5 2.5l-.94 2.06-2.06.94zm10 10l.94 2.06.94-2.06 2.06-.94-2.06-.94-.94-2.06-.94 2.06-2.06.94z\"/><path d=\"M17.41 7.96l-1.37-1.37c-.4-.4-.92-.59-1.43-.59-.52 0-1.04.2-1.43.59L10.3 9.45l-7.72 7.72c-.78.78-.78 2.05 0 2.83L4 21.41c.39.39.9.59 1.41.59.51 0 1.02-.2 1.41-.59l7.78-7.78 2.81-2.81c.8-.78.8-2.07 0-2.86zM5.41 20L4 18.59l7.72-7.72 1.47 1.35L5.41 20z\"/>\n",
              "  </svg>\n",
              "      </button>\n",
              "      \n",
              "  <style>\n",
              "    .colab-df-container {\n",
              "      display:flex;\n",
              "      flex-wrap:wrap;\n",
              "      gap: 12px;\n",
              "    }\n",
              "\n",
              "    .colab-df-convert {\n",
              "      background-color: #E8F0FE;\n",
              "      border: none;\n",
              "      border-radius: 50%;\n",
              "      cursor: pointer;\n",
              "      display: none;\n",
              "      fill: #1967D2;\n",
              "      height: 32px;\n",
              "      padding: 0 0 0 0;\n",
              "      width: 32px;\n",
              "    }\n",
              "\n",
              "    .colab-df-convert:hover {\n",
              "      background-color: #E2EBFA;\n",
              "      box-shadow: 0px 1px 2px rgba(60, 64, 67, 0.3), 0px 1px 3px 1px rgba(60, 64, 67, 0.15);\n",
              "      fill: #174EA6;\n",
              "    }\n",
              "\n",
              "    [theme=dark] .colab-df-convert {\n",
              "      background-color: #3B4455;\n",
              "      fill: #D2E3FC;\n",
              "    }\n",
              "\n",
              "    [theme=dark] .colab-df-convert:hover {\n",
              "      background-color: #434B5C;\n",
              "      box-shadow: 0px 1px 3px 1px rgba(0, 0, 0, 0.15);\n",
              "      filter: drop-shadow(0px 1px 2px rgba(0, 0, 0, 0.3));\n",
              "      fill: #FFFFFF;\n",
              "    }\n",
              "  </style>\n",
              "\n",
              "      <script>\n",
              "        const buttonEl =\n",
              "          document.querySelector('#df-10805186-e8c7-4d44-9067-531b383dc110 button.colab-df-convert');\n",
              "        buttonEl.style.display =\n",
              "          google.colab.kernel.accessAllowed ? 'block' : 'none';\n",
              "\n",
              "        async function convertToInteractive(key) {\n",
              "          const element = document.querySelector('#df-10805186-e8c7-4d44-9067-531b383dc110');\n",
              "          const dataTable =\n",
              "            await google.colab.kernel.invokeFunction('convertToInteractive',\n",
              "                                                     [key], {});\n",
              "          if (!dataTable) return;\n",
              "\n",
              "          const docLinkHtml = 'Like what you see? Visit the ' +\n",
              "            '<a target=\"_blank\" href=https://colab.research.google.com/notebooks/data_table.ipynb>data table notebook</a>'\n",
              "            + ' to learn more about interactive tables.';\n",
              "          element.innerHTML = '';\n",
              "          dataTable['output_type'] = 'display_data';\n",
              "          await google.colab.output.renderOutput(dataTable, element);\n",
              "          const docLink = document.createElement('div');\n",
              "          docLink.innerHTML = docLinkHtml;\n",
              "          element.appendChild(docLink);\n",
              "        }\n",
              "      </script>\n",
              "    </div>\n",
              "  </div>\n",
              "  "
            ]
          },
          "metadata": {},
          "execution_count": 15
        }
      ]
    },
    {
      "cell_type": "markdown",
      "source": [
        "#### **Solving nan and Null values to perform SVM**"
      ],
      "metadata": {
        "id": "iZvjLMFbnEVo"
      }
    },
    {
      "cell_type": "code",
      "source": [
        "X.isnull().sum()"
      ],
      "metadata": {
        "colab": {
          "base_uri": "https://localhost:8080/"
        },
        "id": "EnMLClm5ed6D",
        "outputId": "b3d3a939-77e2-4dcb-f466-4001fce08c35"
      },
      "execution_count": null,
      "outputs": [
        {
          "output_type": "execute_result",
          "data": {
            "text/plain": [
              "Open-Close    1\n",
              "High-Low      1\n",
              "dtype: int64"
            ]
          },
          "metadata": {},
          "execution_count": 49
        }
      ]
    },
    {
      "cell_type": "code",
      "source": [
        "mean_v=df['Open-Close'].mean()\n",
        "mean_v"
      ],
      "metadata": {
        "colab": {
          "base_uri": "https://localhost:8080/"
        },
        "id": "28TsqWykeiPT",
        "outputId": "109d436f-c7a1-47bb-9cc2-2487c3155395"
      },
      "execution_count": null,
      "outputs": [
        {
          "output_type": "execute_result",
          "data": {
            "text/plain": [
              "0.8709124464285728"
            ]
          },
          "metadata": {},
          "execution_count": 36
        }
      ]
    },
    {
      "cell_type": "code",
      "source": [
        "X['Open-Close'].fillna(mean_v,inplace=True)"
      ],
      "metadata": {
        "id": "sPSN4WpjfLCf"
      },
      "execution_count": null,
      "outputs": []
    },
    {
      "cell_type": "code",
      "source": [
        "mean_v=df['High-Low'].mean()\n",
        "mean_v"
      ],
      "metadata": {
        "colab": {
          "base_uri": "https://localhost:8080/"
        },
        "id": "ZNt0-chlgica",
        "outputId": "2df2d6de-5261-4ca0-f705-0cf2753b6540"
      },
      "execution_count": null,
      "outputs": [
        {
          "output_type": "execute_result",
          "data": {
            "text/plain": [
              "25.443766319907898"
            ]
          },
          "metadata": {},
          "execution_count": 55
        }
      ]
    },
    {
      "cell_type": "code",
      "source": [
        "X['High-Low'].fillna(mean_v,inplace=True)"
      ],
      "metadata": {
        "id": "ytHbuxTkgqw_"
      },
      "execution_count": null,
      "outputs": []
    },
    {
      "cell_type": "code",
      "source": [
        "X.isna().sum()"
      ],
      "metadata": {
        "colab": {
          "base_uri": "https://localhost:8080/"
        },
        "id": "F6LxKZZAfWul",
        "outputId": "af605a72-18e2-4afe-aadc-6190696e1975"
      },
      "execution_count": null,
      "outputs": [
        {
          "output_type": "execute_result",
          "data": {
            "text/plain": [
              "Open-Close    0\n",
              "High-Low      0\n",
              "dtype: int64"
            ]
          },
          "metadata": {},
          "execution_count": 57
        }
      ]
    },
    {
      "cell_type": "markdown",
      "source": [
        "#### **Step 5: Define the target variable**"
      ],
      "metadata": {
        "id": "oL7SGNG_nVqU"
      }
    },
    {
      "cell_type": "markdown",
      "source": [
        "**The target variable is the outcome which the machine learning model will predict based on the explanatory variables. y is a target dataset storing the correct trading signal which the machine learning algorithm will try to predict. If tomorrow’s price is greater than today’s price then we will buy the particular Stock else we will have no position in the. We will store +1 for a buy signal and 0 for a no position in y. We will use where() function from NumPy to do this bold text**"
      ],
      "metadata": {
        "id": "uiV6pmOunepA"
      }
    },
    {
      "cell_type": "code",
      "source": [
        "y = np.where(df['Close'].shift(-1) > df['Close'], 1, 0)\n",
        "y"
      ],
      "metadata": {
        "colab": {
          "base_uri": "https://localhost:8080/"
        },
        "id": "rTI9qTKjboPF",
        "outputId": "88d2819d-06de-402c-a96c-b55ad4924ef0"
      },
      "execution_count": null,
      "outputs": [
        {
          "output_type": "execute_result",
          "data": {
            "text/plain": [
              "array([1, 1, 1, ..., 1, 0, 0])"
            ]
          },
          "metadata": {},
          "execution_count": 58
        }
      ]
    },
    {
      "cell_type": "markdown",
      "source": [
        "#### **Step 6: Split the data into train and test**"
      ],
      "metadata": {
        "id": "JVO2HpthnqJF"
      }
    },
    {
      "cell_type": "markdown",
      "source": [
        "**We will split data into training and test data sets. This is done so that we can evaluate the effectiveness of the model in the test dataset**"
      ],
      "metadata": {
        "id": "VA-f2GSQnwo8"
      }
    },
    {
      "cell_type": "code",
      "source": [
        "split_percentage = 0.8\n",
        "split = int(split_percentage*len(df))\n",
        "\n",
        "# Train data set\n",
        "X_train = X[:split]\n",
        "y_train = y[:split]\n",
        "\n",
        "# Test data set\n",
        "X_test = X[split:]\n",
        "y_test = y[split:]"
      ],
      "metadata": {
        "id": "YiM_9AXpbvf0"
      },
      "execution_count": null,
      "outputs": []
    },
    {
      "cell_type": "markdown",
      "source": [
        "#### **Step 7: Support Vector Classifier (SVC)**"
      ],
      "metadata": {
        "id": "-Q2BNml-oBvs"
      }
    },
    {
      "cell_type": "markdown",
      "source": [
        "**We will use SVC() function from sklearn.svm.SVC library to create our classifier model using the fit() method on the training data set.**"
      ],
      "metadata": {
        "id": "BaLDQ-StoPro"
      }
    },
    {
      "cell_type": "code",
      "source": [
        "cls = SVC().fit(X_train, y_train)"
      ],
      "metadata": {
        "id": "ayFjn-O1b_n4"
      },
      "execution_count": null,
      "outputs": []
    },
    {
      "cell_type": "markdown",
      "source": [
        "#### **Step 8: Classifier accuracy**"
      ],
      "metadata": {
        "id": "0k4unI1oobjP"
      }
    },
    {
      "cell_type": "markdown",
      "source": [
        "**We will compute the accuracy of the algorithm on the train and test the data set by comparing the actual values of the signal with the predicted values of the signal. The function accuracy_score() will be used to calculate the accuracy.**"
      ],
      "metadata": {
        "id": "KJ1AXVAHohHo"
      }
    },
    {
      "cell_type": "code",
      "source": [
        "df['Predicted_Signal'] = cls.predict(X)\n",
        "prediction=cls.predict(X_test)"
      ],
      "metadata": {
        "id": "deFTKZ1AcM19"
      },
      "execution_count": null,
      "outputs": []
    },
    {
      "cell_type": "code",
      "source": [
        "prediction"
      ],
      "metadata": {
        "colab": {
          "base_uri": "https://localhost:8080/"
        },
        "id": "GZzu9XH1jbuy",
        "outputId": "b6a923ec-58b7-4625-c493-83cd26a19c8a"
      },
      "execution_count": null,
      "outputs": [
        {
          "output_type": "execute_result",
          "data": {
            "text/plain": [
              "array([0, 1, 1, 1, 1, 0, 0, 1, 0, 0, 0, 1, 1, 1, 1, 1, 0, 0, 1, 1, 1, 1,\n",
              "       0, 0, 1, 1, 0, 1, 1, 1, 0, 1, 0, 1, 1, 1, 0, 1, 1, 1, 0, 1, 1, 1,\n",
              "       1, 1, 0, 1, 0, 0, 1, 1, 1, 1, 0, 1, 1, 1, 1, 1, 0, 1, 1, 0, 0, 0,\n",
              "       0, 0, 0, 1, 1, 1, 0, 1, 1, 1, 1, 1, 1, 0, 1, 1, 0, 1, 1, 1, 1, 1,\n",
              "       1, 1, 1, 1, 1, 1, 1, 0, 1, 1, 1, 1, 1, 1, 0, 1, 1, 1, 0, 1, 1, 1,\n",
              "       0, 1, 1, 0, 0, 1, 1, 1, 1, 0, 1, 1, 0, 0, 1, 1, 1, 1, 1, 0, 1, 0,\n",
              "       0, 1, 1, 0, 0, 1, 1, 1, 1, 1, 1, 0, 1, 0, 1, 0, 0, 1, 1, 1, 1, 1,\n",
              "       0, 1, 1, 1, 1, 1, 1, 0, 0, 1, 1, 0, 0, 1, 1, 0, 1, 1, 0, 1, 1, 1,\n",
              "       1, 0, 1, 1, 0, 1, 0, 1, 0, 0, 0, 0, 0, 0, 0, 0, 1, 1, 1, 0, 0, 1,\n",
              "       1, 0, 1, 1, 1, 1, 1, 0, 0, 1, 0, 1, 1, 1, 0, 1, 0, 0, 0, 0, 1, 0,\n",
              "       0, 0, 1, 1, 0, 0, 1, 0, 1, 0, 1, 0, 1, 0, 1, 1, 1, 1, 0, 0, 1, 0,\n",
              "       1, 1, 0, 1, 0])"
            ]
          },
          "metadata": {},
          "execution_count": 74
        }
      ]
    },
    {
      "cell_type": "code",
      "source": [
        "from sklearn.metrics import classification_report\n",
        "print(classification_report(y_test,prediction))"
      ],
      "metadata": {
        "colab": {
          "base_uri": "https://localhost:8080/"
        },
        "id": "xrAjG8P0jjZh",
        "outputId": "854abead-b72b-4efc-a2cd-2edfe526bd71"
      },
      "execution_count": null,
      "outputs": [
        {
          "output_type": "stream",
          "name": "stdout",
          "text": [
            "              precision    recall  f1-score   support\n",
            "\n",
            "           0       0.43      0.32      0.37       122\n",
            "           1       0.47      0.59      0.52       125\n",
            "\n",
            "    accuracy                           0.46       247\n",
            "   macro avg       0.45      0.46      0.45       247\n",
            "weighted avg       0.45      0.46      0.45       247\n",
            "\n"
          ]
        }
      ]
    },
    {
      "cell_type": "code",
      "source": [
        "df['Return'] = df.Close.pct_change()"
      ],
      "metadata": {
        "id": "fw2nQ9YwcooJ"
      },
      "execution_count": null,
      "outputs": []
    },
    {
      "cell_type": "code",
      "source": [
        "df.isnull().sum()"
      ],
      "metadata": {
        "colab": {
          "base_uri": "https://localhost:8080/"
        },
        "id": "l5fHfPVSkxsB",
        "outputId": "cd23364a-e121-423f-95cd-08d4fc332a93"
      },
      "execution_count": null,
      "outputs": [
        {
          "output_type": "execute_result",
          "data": {
            "text/plain": [
              "Open                0\n",
              "High                0\n",
              "Low                 0\n",
              "Close               0\n",
              "Adj Close           0\n",
              "Volume              0\n",
              "Open-Close          0\n",
              "High-Low            0\n",
              "Return              1\n",
              "Cum_Ret             1\n",
              "Predicted_Signal    0\n",
              "Strategy_Return     1\n",
              "Cum_Strategy        1\n",
              "dtype: int64"
            ]
          },
          "metadata": {},
          "execution_count": 81
        }
      ]
    },
    {
      "cell_type": "code",
      "source": [
        "ret=df['Return'].mean()\n",
        "df['Return'].fillna(ret,inplace=True)\n",
        "stra=df['Strategy_Return'].mean()\n",
        "df['Strategy_Return'].fillna(stra,inplace=True)\n",
        "df.isnull().sum()"
      ],
      "metadata": {
        "colab": {
          "base_uri": "https://localhost:8080/"
        },
        "id": "DwNPcIPMk1ld",
        "outputId": "17439e45-c309-4712-83b0-3a74c82f35f0"
      },
      "execution_count": null,
      "outputs": [
        {
          "output_type": "execute_result",
          "data": {
            "text/plain": [
              "Open                0\n",
              "High                0\n",
              "Low                 0\n",
              "Close               0\n",
              "Adj Close           0\n",
              "Volume              0\n",
              "Open-Close          0\n",
              "High-Low            0\n",
              "Return              0\n",
              "Cum_Ret             0\n",
              "Predicted_Signal    0\n",
              "Strategy_Return     0\n",
              "Cum_Strategy        0\n",
              "Stragedy_Return     0\n",
              "dtype: int64"
            ]
          },
          "metadata": {},
          "execution_count": 98
        }
      ]
    },
    {
      "cell_type": "code",
      "source": [
        "df['Strategy_Return'] = df.Return *df.Predicted_Signal.shift(1)\n",
        "df['Strategy_Return'].fillna(stra,inplace=True)"
      ],
      "metadata": {
        "id": "PeQjtVAWct9g"
      },
      "execution_count": null,
      "outputs": []
    },
    {
      "cell_type": "code",
      "source": [
        "df['Cum_Ret'] = df['Return'].cumsum()\n",
        "df"
      ],
      "metadata": {
        "colab": {
          "base_uri": "https://localhost:8080/",
          "height": 710
        },
        "id": "pxveRAR1c3T5",
        "outputId": "65879abf-c817-4d4e-905c-e059a044fcf7"
      },
      "execution_count": null,
      "outputs": [
        {
          "output_type": "execute_result",
          "data": {
            "text/plain": [
              "                   Open         High          Low        Close    Adj Close  \\\n",
              "Date                                                                          \n",
              "2015-11-18   463.799988   465.649994   454.975006   456.000000   436.671021   \n",
              "2015-11-19   459.450012   469.350006   458.625000   467.375000   447.563873   \n",
              "2015-11-20   467.000000   476.399994   462.774994   473.424988   453.357422   \n",
              "2015-11-23   475.000000   478.950012   473.100006   476.875000   456.661224   \n",
              "2015-11-24   476.500000   485.799988   475.524994   483.850006   463.340515   \n",
              "...                 ...          ...          ...          ...          ...   \n",
              "2020-11-10  2077.000000  2090.000000  2041.199951  2084.550049  2084.550049   \n",
              "2020-11-11  2089.000000  2095.000000  1978.099976  1997.199951  1997.199951   \n",
              "2020-11-12  1981.000000  2008.449951  1965.000000  1980.000000  1980.000000   \n",
              "2020-11-13  1982.000000  2036.650024  1981.750000  1996.400024  1996.400024   \n",
              "2020-11-17  2085.000000  2085.000000  1985.000000  1993.250000  1993.250000   \n",
              "\n",
              "                Volume  Open-Close    High-Low   Return      Cum_Ret  \\\n",
              "Date                                                                   \n",
              "2015-11-18   5142766.0    7.799988   10.674988  1.36703     1.367030   \n",
              "2015-11-19   5569752.0   -7.924988   10.725006  1.36703     2.734059   \n",
              "2015-11-20   5167930.0   -6.424988   13.625000  1.36703     4.101089   \n",
              "2015-11-23   4800026.0   -1.875000    5.850006  1.36703     5.468118   \n",
              "2015-11-24   6768886.0   -7.350006   10.274994  1.36703     6.835148   \n",
              "...                ...         ...         ...      ...          ...   \n",
              "2020-11-10  17045147.0   -7.550049   48.800049  1.36703  1680.079299   \n",
              "2020-11-11  26178477.0   91.800049  116.900024  1.36703  1681.446329   \n",
              "2020-11-12  18481466.0    1.000000   43.449951  1.36703  1682.813358   \n",
              "2020-11-13  20946864.0  -14.400024   54.900024  1.36703  1684.180388   \n",
              "2020-11-17  21479385.0   91.750000  100.000000  1.36703  1685.547417   \n",
              "\n",
              "            Predicted_Signal  Strategy_Return  Cum_Strategy  Stragedy_Return  \n",
              "Date                                                                          \n",
              "2015-11-18                 1          1.08630      1.086300           1.0863  \n",
              "2015-11-19                 1          1.36703      2.453330           1.0863  \n",
              "2015-11-20                 1          1.36703      3.820359           1.0863  \n",
              "2015-11-23                 1          1.36703      5.187389           1.0863  \n",
              "2015-11-24                 1          1.36703      6.554418           1.0863  \n",
              "...                      ...              ...           ...              ...  \n",
              "2020-11-10                 1          0.00000   1335.307127           1.0863  \n",
              "2020-11-11                 1          1.36703   1336.674157           1.0863  \n",
              "2020-11-12                 0          1.36703   1338.041186           1.0863  \n",
              "2020-11-13                 1          0.00000   1338.041186           1.0863  \n",
              "2020-11-17                 0          1.36703   1339.408216           1.0863  \n",
              "\n",
              "[1233 rows x 14 columns]"
            ],
            "text/html": [
              "\n",
              "  <div id=\"df-d1c231c2-8115-458d-8c9a-55f3d461c04d\">\n",
              "    <div class=\"colab-df-container\">\n",
              "      <div>\n",
              "<style scoped>\n",
              "    .dataframe tbody tr th:only-of-type {\n",
              "        vertical-align: middle;\n",
              "    }\n",
              "\n",
              "    .dataframe tbody tr th {\n",
              "        vertical-align: top;\n",
              "    }\n",
              "\n",
              "    .dataframe thead th {\n",
              "        text-align: right;\n",
              "    }\n",
              "</style>\n",
              "<table border=\"1\" class=\"dataframe\">\n",
              "  <thead>\n",
              "    <tr style=\"text-align: right;\">\n",
              "      <th></th>\n",
              "      <th>Open</th>\n",
              "      <th>High</th>\n",
              "      <th>Low</th>\n",
              "      <th>Close</th>\n",
              "      <th>Adj Close</th>\n",
              "      <th>Volume</th>\n",
              "      <th>Open-Close</th>\n",
              "      <th>High-Low</th>\n",
              "      <th>Return</th>\n",
              "      <th>Cum_Ret</th>\n",
              "      <th>Predicted_Signal</th>\n",
              "      <th>Strategy_Return</th>\n",
              "      <th>Cum_Strategy</th>\n",
              "      <th>Stragedy_Return</th>\n",
              "    </tr>\n",
              "    <tr>\n",
              "      <th>Date</th>\n",
              "      <th></th>\n",
              "      <th></th>\n",
              "      <th></th>\n",
              "      <th></th>\n",
              "      <th></th>\n",
              "      <th></th>\n",
              "      <th></th>\n",
              "      <th></th>\n",
              "      <th></th>\n",
              "      <th></th>\n",
              "      <th></th>\n",
              "      <th></th>\n",
              "      <th></th>\n",
              "      <th></th>\n",
              "    </tr>\n",
              "  </thead>\n",
              "  <tbody>\n",
              "    <tr>\n",
              "      <th>2015-11-18</th>\n",
              "      <td>463.799988</td>\n",
              "      <td>465.649994</td>\n",
              "      <td>454.975006</td>\n",
              "      <td>456.000000</td>\n",
              "      <td>436.671021</td>\n",
              "      <td>5142766.0</td>\n",
              "      <td>7.799988</td>\n",
              "      <td>10.674988</td>\n",
              "      <td>1.36703</td>\n",
              "      <td>1.367030</td>\n",
              "      <td>1</td>\n",
              "      <td>1.08630</td>\n",
              "      <td>1.086300</td>\n",
              "      <td>1.0863</td>\n",
              "    </tr>\n",
              "    <tr>\n",
              "      <th>2015-11-19</th>\n",
              "      <td>459.450012</td>\n",
              "      <td>469.350006</td>\n",
              "      <td>458.625000</td>\n",
              "      <td>467.375000</td>\n",
              "      <td>447.563873</td>\n",
              "      <td>5569752.0</td>\n",
              "      <td>-7.924988</td>\n",
              "      <td>10.725006</td>\n",
              "      <td>1.36703</td>\n",
              "      <td>2.734059</td>\n",
              "      <td>1</td>\n",
              "      <td>1.36703</td>\n",
              "      <td>2.453330</td>\n",
              "      <td>1.0863</td>\n",
              "    </tr>\n",
              "    <tr>\n",
              "      <th>2015-11-20</th>\n",
              "      <td>467.000000</td>\n",
              "      <td>476.399994</td>\n",
              "      <td>462.774994</td>\n",
              "      <td>473.424988</td>\n",
              "      <td>453.357422</td>\n",
              "      <td>5167930.0</td>\n",
              "      <td>-6.424988</td>\n",
              "      <td>13.625000</td>\n",
              "      <td>1.36703</td>\n",
              "      <td>4.101089</td>\n",
              "      <td>1</td>\n",
              "      <td>1.36703</td>\n",
              "      <td>3.820359</td>\n",
              "      <td>1.0863</td>\n",
              "    </tr>\n",
              "    <tr>\n",
              "      <th>2015-11-23</th>\n",
              "      <td>475.000000</td>\n",
              "      <td>478.950012</td>\n",
              "      <td>473.100006</td>\n",
              "      <td>476.875000</td>\n",
              "      <td>456.661224</td>\n",
              "      <td>4800026.0</td>\n",
              "      <td>-1.875000</td>\n",
              "      <td>5.850006</td>\n",
              "      <td>1.36703</td>\n",
              "      <td>5.468118</td>\n",
              "      <td>1</td>\n",
              "      <td>1.36703</td>\n",
              "      <td>5.187389</td>\n",
              "      <td>1.0863</td>\n",
              "    </tr>\n",
              "    <tr>\n",
              "      <th>2015-11-24</th>\n",
              "      <td>476.500000</td>\n",
              "      <td>485.799988</td>\n",
              "      <td>475.524994</td>\n",
              "      <td>483.850006</td>\n",
              "      <td>463.340515</td>\n",
              "      <td>6768886.0</td>\n",
              "      <td>-7.350006</td>\n",
              "      <td>10.274994</td>\n",
              "      <td>1.36703</td>\n",
              "      <td>6.835148</td>\n",
              "      <td>1</td>\n",
              "      <td>1.36703</td>\n",
              "      <td>6.554418</td>\n",
              "      <td>1.0863</td>\n",
              "    </tr>\n",
              "    <tr>\n",
              "      <th>...</th>\n",
              "      <td>...</td>\n",
              "      <td>...</td>\n",
              "      <td>...</td>\n",
              "      <td>...</td>\n",
              "      <td>...</td>\n",
              "      <td>...</td>\n",
              "      <td>...</td>\n",
              "      <td>...</td>\n",
              "      <td>...</td>\n",
              "      <td>...</td>\n",
              "      <td>...</td>\n",
              "      <td>...</td>\n",
              "      <td>...</td>\n",
              "      <td>...</td>\n",
              "    </tr>\n",
              "    <tr>\n",
              "      <th>2020-11-10</th>\n",
              "      <td>2077.000000</td>\n",
              "      <td>2090.000000</td>\n",
              "      <td>2041.199951</td>\n",
              "      <td>2084.550049</td>\n",
              "      <td>2084.550049</td>\n",
              "      <td>17045147.0</td>\n",
              "      <td>-7.550049</td>\n",
              "      <td>48.800049</td>\n",
              "      <td>1.36703</td>\n",
              "      <td>1680.079299</td>\n",
              "      <td>1</td>\n",
              "      <td>0.00000</td>\n",
              "      <td>1335.307127</td>\n",
              "      <td>1.0863</td>\n",
              "    </tr>\n",
              "    <tr>\n",
              "      <th>2020-11-11</th>\n",
              "      <td>2089.000000</td>\n",
              "      <td>2095.000000</td>\n",
              "      <td>1978.099976</td>\n",
              "      <td>1997.199951</td>\n",
              "      <td>1997.199951</td>\n",
              "      <td>26178477.0</td>\n",
              "      <td>91.800049</td>\n",
              "      <td>116.900024</td>\n",
              "      <td>1.36703</td>\n",
              "      <td>1681.446329</td>\n",
              "      <td>1</td>\n",
              "      <td>1.36703</td>\n",
              "      <td>1336.674157</td>\n",
              "      <td>1.0863</td>\n",
              "    </tr>\n",
              "    <tr>\n",
              "      <th>2020-11-12</th>\n",
              "      <td>1981.000000</td>\n",
              "      <td>2008.449951</td>\n",
              "      <td>1965.000000</td>\n",
              "      <td>1980.000000</td>\n",
              "      <td>1980.000000</td>\n",
              "      <td>18481466.0</td>\n",
              "      <td>1.000000</td>\n",
              "      <td>43.449951</td>\n",
              "      <td>1.36703</td>\n",
              "      <td>1682.813358</td>\n",
              "      <td>0</td>\n",
              "      <td>1.36703</td>\n",
              "      <td>1338.041186</td>\n",
              "      <td>1.0863</td>\n",
              "    </tr>\n",
              "    <tr>\n",
              "      <th>2020-11-13</th>\n",
              "      <td>1982.000000</td>\n",
              "      <td>2036.650024</td>\n",
              "      <td>1981.750000</td>\n",
              "      <td>1996.400024</td>\n",
              "      <td>1996.400024</td>\n",
              "      <td>20946864.0</td>\n",
              "      <td>-14.400024</td>\n",
              "      <td>54.900024</td>\n",
              "      <td>1.36703</td>\n",
              "      <td>1684.180388</td>\n",
              "      <td>1</td>\n",
              "      <td>0.00000</td>\n",
              "      <td>1338.041186</td>\n",
              "      <td>1.0863</td>\n",
              "    </tr>\n",
              "    <tr>\n",
              "      <th>2020-11-17</th>\n",
              "      <td>2085.000000</td>\n",
              "      <td>2085.000000</td>\n",
              "      <td>1985.000000</td>\n",
              "      <td>1993.250000</td>\n",
              "      <td>1993.250000</td>\n",
              "      <td>21479385.0</td>\n",
              "      <td>91.750000</td>\n",
              "      <td>100.000000</td>\n",
              "      <td>1.36703</td>\n",
              "      <td>1685.547417</td>\n",
              "      <td>0</td>\n",
              "      <td>1.36703</td>\n",
              "      <td>1339.408216</td>\n",
              "      <td>1.0863</td>\n",
              "    </tr>\n",
              "  </tbody>\n",
              "</table>\n",
              "<p>1233 rows × 14 columns</p>\n",
              "</div>\n",
              "      <button class=\"colab-df-convert\" onclick=\"convertToInteractive('df-d1c231c2-8115-458d-8c9a-55f3d461c04d')\"\n",
              "              title=\"Convert this dataframe to an interactive table.\"\n",
              "              style=\"display:none;\">\n",
              "        \n",
              "  <svg xmlns=\"http://www.w3.org/2000/svg\" height=\"24px\"viewBox=\"0 0 24 24\"\n",
              "       width=\"24px\">\n",
              "    <path d=\"M0 0h24v24H0V0z\" fill=\"none\"/>\n",
              "    <path d=\"M18.56 5.44l.94 2.06.94-2.06 2.06-.94-2.06-.94-.94-2.06-.94 2.06-2.06.94zm-11 1L8.5 8.5l.94-2.06 2.06-.94-2.06-.94L8.5 2.5l-.94 2.06-2.06.94zm10 10l.94 2.06.94-2.06 2.06-.94-2.06-.94-.94-2.06-.94 2.06-2.06.94z\"/><path d=\"M17.41 7.96l-1.37-1.37c-.4-.4-.92-.59-1.43-.59-.52 0-1.04.2-1.43.59L10.3 9.45l-7.72 7.72c-.78.78-.78 2.05 0 2.83L4 21.41c.39.39.9.59 1.41.59.51 0 1.02-.2 1.41-.59l7.78-7.78 2.81-2.81c.8-.78.8-2.07 0-2.86zM5.41 20L4 18.59l7.72-7.72 1.47 1.35L5.41 20z\"/>\n",
              "  </svg>\n",
              "      </button>\n",
              "      \n",
              "  <style>\n",
              "    .colab-df-container {\n",
              "      display:flex;\n",
              "      flex-wrap:wrap;\n",
              "      gap: 12px;\n",
              "    }\n",
              "\n",
              "    .colab-df-convert {\n",
              "      background-color: #E8F0FE;\n",
              "      border: none;\n",
              "      border-radius: 50%;\n",
              "      cursor: pointer;\n",
              "      display: none;\n",
              "      fill: #1967D2;\n",
              "      height: 32px;\n",
              "      padding: 0 0 0 0;\n",
              "      width: 32px;\n",
              "    }\n",
              "\n",
              "    .colab-df-convert:hover {\n",
              "      background-color: #E2EBFA;\n",
              "      box-shadow: 0px 1px 2px rgba(60, 64, 67, 0.3), 0px 1px 3px 1px rgba(60, 64, 67, 0.15);\n",
              "      fill: #174EA6;\n",
              "    }\n",
              "\n",
              "    [theme=dark] .colab-df-convert {\n",
              "      background-color: #3B4455;\n",
              "      fill: #D2E3FC;\n",
              "    }\n",
              "\n",
              "    [theme=dark] .colab-df-convert:hover {\n",
              "      background-color: #434B5C;\n",
              "      box-shadow: 0px 1px 3px 1px rgba(0, 0, 0, 0.15);\n",
              "      filter: drop-shadow(0px 1px 2px rgba(0, 0, 0, 0.3));\n",
              "      fill: #FFFFFF;\n",
              "    }\n",
              "  </style>\n",
              "\n",
              "      <script>\n",
              "        const buttonEl =\n",
              "          document.querySelector('#df-d1c231c2-8115-458d-8c9a-55f3d461c04d button.colab-df-convert');\n",
              "        buttonEl.style.display =\n",
              "          google.colab.kernel.accessAllowed ? 'block' : 'none';\n",
              "\n",
              "        async function convertToInteractive(key) {\n",
              "          const element = document.querySelector('#df-d1c231c2-8115-458d-8c9a-55f3d461c04d');\n",
              "          const dataTable =\n",
              "            await google.colab.kernel.invokeFunction('convertToInteractive',\n",
              "                                                     [key], {});\n",
              "          if (!dataTable) return;\n",
              "\n",
              "          const docLinkHtml = 'Like what you see? Visit the ' +\n",
              "            '<a target=\"_blank\" href=https://colab.research.google.com/notebooks/data_table.ipynb>data table notebook</a>'\n",
              "            + ' to learn more about interactive tables.';\n",
              "          element.innerHTML = '';\n",
              "          dataTable['output_type'] = 'display_data';\n",
              "          await google.colab.output.renderOutput(dataTable, element);\n",
              "          const docLink = document.createElement('div');\n",
              "          docLink.innerHTML = docLinkHtml;\n",
              "          element.appendChild(docLink);\n",
              "        }\n",
              "      </script>\n",
              "    </div>\n",
              "  </div>\n",
              "  "
            ]
          },
          "metadata": {},
          "execution_count": 102
        }
      ]
    },
    {
      "cell_type": "code",
      "source": [],
      "metadata": {
        "id": "E8IDSOueknBo"
      },
      "execution_count": null,
      "outputs": []
    },
    {
      "cell_type": "code",
      "source": [
        "df['Cum_Strategy'] = df['Strategy_Return'].cumsum()\n",
        "df"
      ],
      "metadata": {
        "colab": {
          "base_uri": "https://localhost:8080/",
          "height": 710
        },
        "id": "ODgmdH5TdBGB",
        "outputId": "12370de9-633a-4316-d334-cc655c0f2948"
      },
      "execution_count": null,
      "outputs": [
        {
          "output_type": "execute_result",
          "data": {
            "text/plain": [
              "                   Open         High          Low        Close    Adj Close  \\\n",
              "Date                                                                          \n",
              "2015-11-18   463.799988   465.649994   454.975006   456.000000   436.671021   \n",
              "2015-11-19   459.450012   469.350006   458.625000   467.375000   447.563873   \n",
              "2015-11-20   467.000000   476.399994   462.774994   473.424988   453.357422   \n",
              "2015-11-23   475.000000   478.950012   473.100006   476.875000   456.661224   \n",
              "2015-11-24   476.500000   485.799988   475.524994   483.850006   463.340515   \n",
              "...                 ...          ...          ...          ...          ...   \n",
              "2020-11-10  2077.000000  2090.000000  2041.199951  2084.550049  2084.550049   \n",
              "2020-11-11  2089.000000  2095.000000  1978.099976  1997.199951  1997.199951   \n",
              "2020-11-12  1981.000000  2008.449951  1965.000000  1980.000000  1980.000000   \n",
              "2020-11-13  1982.000000  2036.650024  1981.750000  1996.400024  1996.400024   \n",
              "2020-11-17  2085.000000  2085.000000  1985.000000  1993.250000  1993.250000   \n",
              "\n",
              "                Volume  Open-Close    High-Low   Return      Cum_Ret  \\\n",
              "Date                                                                   \n",
              "2015-11-18   5142766.0    7.799988   10.674988  1.36703     1.367030   \n",
              "2015-11-19   5569752.0   -7.924988   10.725006  1.36703     2.734059   \n",
              "2015-11-20   5167930.0   -6.424988   13.625000  1.36703     4.101089   \n",
              "2015-11-23   4800026.0   -1.875000    5.850006  1.36703     5.468118   \n",
              "2015-11-24   6768886.0   -7.350006   10.274994  1.36703     6.835148   \n",
              "...                ...         ...         ...      ...          ...   \n",
              "2020-11-10  17045147.0   -7.550049   48.800049  1.36703  1680.079299   \n",
              "2020-11-11  26178477.0   91.800049  116.900024  1.36703  1681.446329   \n",
              "2020-11-12  18481466.0    1.000000   43.449951  1.36703  1682.813358   \n",
              "2020-11-13  20946864.0  -14.400024   54.900024  1.36703  1684.180388   \n",
              "2020-11-17  21479385.0   91.750000  100.000000  1.36703  1685.547417   \n",
              "\n",
              "            Predicted_Signal  Strategy_Return  Cum_Strategy  Stragedy_Return  \n",
              "Date                                                                          \n",
              "2015-11-18                 1          1.08630      1.086300           1.0863  \n",
              "2015-11-19                 1          1.36703      2.453330           1.0863  \n",
              "2015-11-20                 1          1.36703      3.820359           1.0863  \n",
              "2015-11-23                 1          1.36703      5.187389           1.0863  \n",
              "2015-11-24                 1          1.36703      6.554418           1.0863  \n",
              "...                      ...              ...           ...              ...  \n",
              "2020-11-10                 1          0.00000   1335.307127           1.0863  \n",
              "2020-11-11                 1          1.36703   1336.674157           1.0863  \n",
              "2020-11-12                 0          1.36703   1338.041186           1.0863  \n",
              "2020-11-13                 1          0.00000   1338.041186           1.0863  \n",
              "2020-11-17                 0          1.36703   1339.408216           1.0863  \n",
              "\n",
              "[1233 rows x 14 columns]"
            ],
            "text/html": [
              "\n",
              "  <div id=\"df-fefd7fa8-51cb-4675-899d-bf45d89101a2\">\n",
              "    <div class=\"colab-df-container\">\n",
              "      <div>\n",
              "<style scoped>\n",
              "    .dataframe tbody tr th:only-of-type {\n",
              "        vertical-align: middle;\n",
              "    }\n",
              "\n",
              "    .dataframe tbody tr th {\n",
              "        vertical-align: top;\n",
              "    }\n",
              "\n",
              "    .dataframe thead th {\n",
              "        text-align: right;\n",
              "    }\n",
              "</style>\n",
              "<table border=\"1\" class=\"dataframe\">\n",
              "  <thead>\n",
              "    <tr style=\"text-align: right;\">\n",
              "      <th></th>\n",
              "      <th>Open</th>\n",
              "      <th>High</th>\n",
              "      <th>Low</th>\n",
              "      <th>Close</th>\n",
              "      <th>Adj Close</th>\n",
              "      <th>Volume</th>\n",
              "      <th>Open-Close</th>\n",
              "      <th>High-Low</th>\n",
              "      <th>Return</th>\n",
              "      <th>Cum_Ret</th>\n",
              "      <th>Predicted_Signal</th>\n",
              "      <th>Strategy_Return</th>\n",
              "      <th>Cum_Strategy</th>\n",
              "      <th>Stragedy_Return</th>\n",
              "    </tr>\n",
              "    <tr>\n",
              "      <th>Date</th>\n",
              "      <th></th>\n",
              "      <th></th>\n",
              "      <th></th>\n",
              "      <th></th>\n",
              "      <th></th>\n",
              "      <th></th>\n",
              "      <th></th>\n",
              "      <th></th>\n",
              "      <th></th>\n",
              "      <th></th>\n",
              "      <th></th>\n",
              "      <th></th>\n",
              "      <th></th>\n",
              "      <th></th>\n",
              "    </tr>\n",
              "  </thead>\n",
              "  <tbody>\n",
              "    <tr>\n",
              "      <th>2015-11-18</th>\n",
              "      <td>463.799988</td>\n",
              "      <td>465.649994</td>\n",
              "      <td>454.975006</td>\n",
              "      <td>456.000000</td>\n",
              "      <td>436.671021</td>\n",
              "      <td>5142766.0</td>\n",
              "      <td>7.799988</td>\n",
              "      <td>10.674988</td>\n",
              "      <td>1.36703</td>\n",
              "      <td>1.367030</td>\n",
              "      <td>1</td>\n",
              "      <td>1.08630</td>\n",
              "      <td>1.086300</td>\n",
              "      <td>1.0863</td>\n",
              "    </tr>\n",
              "    <tr>\n",
              "      <th>2015-11-19</th>\n",
              "      <td>459.450012</td>\n",
              "      <td>469.350006</td>\n",
              "      <td>458.625000</td>\n",
              "      <td>467.375000</td>\n",
              "      <td>447.563873</td>\n",
              "      <td>5569752.0</td>\n",
              "      <td>-7.924988</td>\n",
              "      <td>10.725006</td>\n",
              "      <td>1.36703</td>\n",
              "      <td>2.734059</td>\n",
              "      <td>1</td>\n",
              "      <td>1.36703</td>\n",
              "      <td>2.453330</td>\n",
              "      <td>1.0863</td>\n",
              "    </tr>\n",
              "    <tr>\n",
              "      <th>2015-11-20</th>\n",
              "      <td>467.000000</td>\n",
              "      <td>476.399994</td>\n",
              "      <td>462.774994</td>\n",
              "      <td>473.424988</td>\n",
              "      <td>453.357422</td>\n",
              "      <td>5167930.0</td>\n",
              "      <td>-6.424988</td>\n",
              "      <td>13.625000</td>\n",
              "      <td>1.36703</td>\n",
              "      <td>4.101089</td>\n",
              "      <td>1</td>\n",
              "      <td>1.36703</td>\n",
              "      <td>3.820359</td>\n",
              "      <td>1.0863</td>\n",
              "    </tr>\n",
              "    <tr>\n",
              "      <th>2015-11-23</th>\n",
              "      <td>475.000000</td>\n",
              "      <td>478.950012</td>\n",
              "      <td>473.100006</td>\n",
              "      <td>476.875000</td>\n",
              "      <td>456.661224</td>\n",
              "      <td>4800026.0</td>\n",
              "      <td>-1.875000</td>\n",
              "      <td>5.850006</td>\n",
              "      <td>1.36703</td>\n",
              "      <td>5.468118</td>\n",
              "      <td>1</td>\n",
              "      <td>1.36703</td>\n",
              "      <td>5.187389</td>\n",
              "      <td>1.0863</td>\n",
              "    </tr>\n",
              "    <tr>\n",
              "      <th>2015-11-24</th>\n",
              "      <td>476.500000</td>\n",
              "      <td>485.799988</td>\n",
              "      <td>475.524994</td>\n",
              "      <td>483.850006</td>\n",
              "      <td>463.340515</td>\n",
              "      <td>6768886.0</td>\n",
              "      <td>-7.350006</td>\n",
              "      <td>10.274994</td>\n",
              "      <td>1.36703</td>\n",
              "      <td>6.835148</td>\n",
              "      <td>1</td>\n",
              "      <td>1.36703</td>\n",
              "      <td>6.554418</td>\n",
              "      <td>1.0863</td>\n",
              "    </tr>\n",
              "    <tr>\n",
              "      <th>...</th>\n",
              "      <td>...</td>\n",
              "      <td>...</td>\n",
              "      <td>...</td>\n",
              "      <td>...</td>\n",
              "      <td>...</td>\n",
              "      <td>...</td>\n",
              "      <td>...</td>\n",
              "      <td>...</td>\n",
              "      <td>...</td>\n",
              "      <td>...</td>\n",
              "      <td>...</td>\n",
              "      <td>...</td>\n",
              "      <td>...</td>\n",
              "      <td>...</td>\n",
              "    </tr>\n",
              "    <tr>\n",
              "      <th>2020-11-10</th>\n",
              "      <td>2077.000000</td>\n",
              "      <td>2090.000000</td>\n",
              "      <td>2041.199951</td>\n",
              "      <td>2084.550049</td>\n",
              "      <td>2084.550049</td>\n",
              "      <td>17045147.0</td>\n",
              "      <td>-7.550049</td>\n",
              "      <td>48.800049</td>\n",
              "      <td>1.36703</td>\n",
              "      <td>1680.079299</td>\n",
              "      <td>1</td>\n",
              "      <td>0.00000</td>\n",
              "      <td>1335.307127</td>\n",
              "      <td>1.0863</td>\n",
              "    </tr>\n",
              "    <tr>\n",
              "      <th>2020-11-11</th>\n",
              "      <td>2089.000000</td>\n",
              "      <td>2095.000000</td>\n",
              "      <td>1978.099976</td>\n",
              "      <td>1997.199951</td>\n",
              "      <td>1997.199951</td>\n",
              "      <td>26178477.0</td>\n",
              "      <td>91.800049</td>\n",
              "      <td>116.900024</td>\n",
              "      <td>1.36703</td>\n",
              "      <td>1681.446329</td>\n",
              "      <td>1</td>\n",
              "      <td>1.36703</td>\n",
              "      <td>1336.674157</td>\n",
              "      <td>1.0863</td>\n",
              "    </tr>\n",
              "    <tr>\n",
              "      <th>2020-11-12</th>\n",
              "      <td>1981.000000</td>\n",
              "      <td>2008.449951</td>\n",
              "      <td>1965.000000</td>\n",
              "      <td>1980.000000</td>\n",
              "      <td>1980.000000</td>\n",
              "      <td>18481466.0</td>\n",
              "      <td>1.000000</td>\n",
              "      <td>43.449951</td>\n",
              "      <td>1.36703</td>\n",
              "      <td>1682.813358</td>\n",
              "      <td>0</td>\n",
              "      <td>1.36703</td>\n",
              "      <td>1338.041186</td>\n",
              "      <td>1.0863</td>\n",
              "    </tr>\n",
              "    <tr>\n",
              "      <th>2020-11-13</th>\n",
              "      <td>1982.000000</td>\n",
              "      <td>2036.650024</td>\n",
              "      <td>1981.750000</td>\n",
              "      <td>1996.400024</td>\n",
              "      <td>1996.400024</td>\n",
              "      <td>20946864.0</td>\n",
              "      <td>-14.400024</td>\n",
              "      <td>54.900024</td>\n",
              "      <td>1.36703</td>\n",
              "      <td>1684.180388</td>\n",
              "      <td>1</td>\n",
              "      <td>0.00000</td>\n",
              "      <td>1338.041186</td>\n",
              "      <td>1.0863</td>\n",
              "    </tr>\n",
              "    <tr>\n",
              "      <th>2020-11-17</th>\n",
              "      <td>2085.000000</td>\n",
              "      <td>2085.000000</td>\n",
              "      <td>1985.000000</td>\n",
              "      <td>1993.250000</td>\n",
              "      <td>1993.250000</td>\n",
              "      <td>21479385.0</td>\n",
              "      <td>91.750000</td>\n",
              "      <td>100.000000</td>\n",
              "      <td>1.36703</td>\n",
              "      <td>1685.547417</td>\n",
              "      <td>0</td>\n",
              "      <td>1.36703</td>\n",
              "      <td>1339.408216</td>\n",
              "      <td>1.0863</td>\n",
              "    </tr>\n",
              "  </tbody>\n",
              "</table>\n",
              "<p>1233 rows × 14 columns</p>\n",
              "</div>\n",
              "      <button class=\"colab-df-convert\" onclick=\"convertToInteractive('df-fefd7fa8-51cb-4675-899d-bf45d89101a2')\"\n",
              "              title=\"Convert this dataframe to an interactive table.\"\n",
              "              style=\"display:none;\">\n",
              "        \n",
              "  <svg xmlns=\"http://www.w3.org/2000/svg\" height=\"24px\"viewBox=\"0 0 24 24\"\n",
              "       width=\"24px\">\n",
              "    <path d=\"M0 0h24v24H0V0z\" fill=\"none\"/>\n",
              "    <path d=\"M18.56 5.44l.94 2.06.94-2.06 2.06-.94-2.06-.94-.94-2.06-.94 2.06-2.06.94zm-11 1L8.5 8.5l.94-2.06 2.06-.94-2.06-.94L8.5 2.5l-.94 2.06-2.06.94zm10 10l.94 2.06.94-2.06 2.06-.94-2.06-.94-.94-2.06-.94 2.06-2.06.94z\"/><path d=\"M17.41 7.96l-1.37-1.37c-.4-.4-.92-.59-1.43-.59-.52 0-1.04.2-1.43.59L10.3 9.45l-7.72 7.72c-.78.78-.78 2.05 0 2.83L4 21.41c.39.39.9.59 1.41.59.51 0 1.02-.2 1.41-.59l7.78-7.78 2.81-2.81c.8-.78.8-2.07 0-2.86zM5.41 20L4 18.59l7.72-7.72 1.47 1.35L5.41 20z\"/>\n",
              "  </svg>\n",
              "      </button>\n",
              "      \n",
              "  <style>\n",
              "    .colab-df-container {\n",
              "      display:flex;\n",
              "      flex-wrap:wrap;\n",
              "      gap: 12px;\n",
              "    }\n",
              "\n",
              "    .colab-df-convert {\n",
              "      background-color: #E8F0FE;\n",
              "      border: none;\n",
              "      border-radius: 50%;\n",
              "      cursor: pointer;\n",
              "      display: none;\n",
              "      fill: #1967D2;\n",
              "      height: 32px;\n",
              "      padding: 0 0 0 0;\n",
              "      width: 32px;\n",
              "    }\n",
              "\n",
              "    .colab-df-convert:hover {\n",
              "      background-color: #E2EBFA;\n",
              "      box-shadow: 0px 1px 2px rgba(60, 64, 67, 0.3), 0px 1px 3px 1px rgba(60, 64, 67, 0.15);\n",
              "      fill: #174EA6;\n",
              "    }\n",
              "\n",
              "    [theme=dark] .colab-df-convert {\n",
              "      background-color: #3B4455;\n",
              "      fill: #D2E3FC;\n",
              "    }\n",
              "\n",
              "    [theme=dark] .colab-df-convert:hover {\n",
              "      background-color: #434B5C;\n",
              "      box-shadow: 0px 1px 3px 1px rgba(0, 0, 0, 0.15);\n",
              "      filter: drop-shadow(0px 1px 2px rgba(0, 0, 0, 0.3));\n",
              "      fill: #FFFFFF;\n",
              "    }\n",
              "  </style>\n",
              "\n",
              "      <script>\n",
              "        const buttonEl =\n",
              "          document.querySelector('#df-fefd7fa8-51cb-4675-899d-bf45d89101a2 button.colab-df-convert');\n",
              "        buttonEl.style.display =\n",
              "          google.colab.kernel.accessAllowed ? 'block' : 'none';\n",
              "\n",
              "        async function convertToInteractive(key) {\n",
              "          const element = document.querySelector('#df-fefd7fa8-51cb-4675-899d-bf45d89101a2');\n",
              "          const dataTable =\n",
              "            await google.colab.kernel.invokeFunction('convertToInteractive',\n",
              "                                                     [key], {});\n",
              "          if (!dataTable) return;\n",
              "\n",
              "          const docLinkHtml = 'Like what you see? Visit the ' +\n",
              "            '<a target=\"_blank\" href=https://colab.research.google.com/notebooks/data_table.ipynb>data table notebook</a>'\n",
              "            + ' to learn more about interactive tables.';\n",
              "          element.innerHTML = '';\n",
              "          dataTable['output_type'] = 'display_data';\n",
              "          await google.colab.output.renderOutput(dataTable, element);\n",
              "          const docLink = document.createElement('div');\n",
              "          docLink.innerHTML = docLinkHtml;\n",
              "          element.appendChild(docLink);\n",
              "        }\n",
              "      </script>\n",
              "    </div>\n",
              "  </div>\n",
              "  "
            ]
          },
          "metadata": {},
          "execution_count": 103
        }
      ]
    },
    {
      "cell_type": "markdown",
      "source": [
        "."
      ],
      "metadata": {
        "id": "4zCZ6yYGu9pO"
      }
    },
    {
      "cell_type": "markdown",
      "source": [
        "."
      ],
      "metadata": {
        "id": "J5MEjzVLu9hn"
      }
    },
    {
      "cell_type": "markdown",
      "source": [
        "."
      ],
      "metadata": {
        "id": "lpBmNz5hu9SY"
      }
    },
    {
      "cell_type": "markdown",
      "source": [
        "."
      ],
      "metadata": {
        "id": "pRvv7-weu9Ix"
      }
    },
    {
      "cell_type": "markdown",
      "source": [
        "."
      ],
      "metadata": {
        "id": "N0_5kc30u88m"
      }
    },
    {
      "cell_type": "markdown",
      "source": [
        "### **Plot Strategy Returns vs Original Returns**"
      ],
      "metadata": {
        "id": "M4vFNDr9o8HK"
      }
    },
    {
      "cell_type": "code",
      "source": [
        "import matplotlib.pyplot as plt\n",
        "%matplotlib inline\n",
        "\n",
        "plt.plot(df['Cum_Ret'],color='red')\n",
        "plt.plot(df['Cum_Strategy'],color='blue')"
      ],
      "metadata": {
        "colab": {
          "base_uri": "https://localhost:8080/",
          "height": 444
        },
        "id": "6n6KNBJZdHRs",
        "outputId": "7f333543-bb28-4ce3-ca21-c7bae5ca3996"
      },
      "execution_count": null,
      "outputs": [
        {
          "output_type": "execute_result",
          "data": {
            "text/plain": [
              "[<matplotlib.lines.Line2D at 0x7f913703c2e0>]"
            ]
          },
          "metadata": {},
          "execution_count": 104
        },
        {
          "output_type": "display_data",
          "data": {
            "text/plain": [
              "<Figure size 640x480 with 1 Axes>"
            ],
            "image/png": "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\n"
          },
          "metadata": {}
        }
      ]
    },
    {
      "cell_type": "markdown",
      "source": [
        "**Accuracy prediction around 50%**"
      ],
      "metadata": {
        "id": "Vgh9MsBrpLfd"
      }
    },
    {
      "cell_type": "code",
      "source": [
        "accuracy=  accuracy_score(y_test,prediction)\n",
        "accuracy"
      ],
      "metadata": {
        "id": "AtvBHOVZdWgr",
        "colab": {
          "base_uri": "https://localhost:8080/"
        },
        "outputId": "1ca2eccb-53dc-4e54-ff85-a83f8540f1d7"
      },
      "execution_count": null,
      "outputs": [
        {
          "output_type": "execute_result",
          "data": {
            "text/plain": [
              "0.4574898785425101"
            ]
          },
          "metadata": {},
          "execution_count": 105
        }
      ]
    },
    {
      "cell_type": "markdown",
      "source": [
        "#### **Link of Dataset :**"
      ],
      "metadata": {
        "id": "qUnIyJm1qIN2"
      }
    },
    {
      "cell_type": "markdown",
      "source": [
        "          https://www.kaggle.com/datasets/dhruvanurag20/reliance-data"
      ],
      "metadata": {
        "id": "NQtf1CmqqYg4"
      }
    },
    {
      "cell_type": "markdown",
      "source": [
        
      "metadata": {
        "id": "hXL6gTQ-rWPO"
      }
    },
    {
      "cell_type": "markdown",
      "source": [
       
      "metadata": {
        "id": "0Sboe-Zwq4-Z"
      }
    }
  ],
  "metadata": {
    "colab": {
      "provenance": []
    },
    "kernelspec": {
      "display_name": "Python 3",
      "name": "python3"
    },
    "language_info": {
      "name": "python"
    }
  },
  "nbformat": 4,
  "nbformat_minor": 0
}
